{
  "nbformat": 4,
  "nbformat_minor": 0,
  "metadata": {
    "accelerator": "GPU",
    "colab": {
      "name": "mnist_classification_sklearn.ipynb",
      "provenance": [],
      "collapsed_sections": [
        "n0o-3gc270ed"
      ],
      "include_colab_link": true
    },
    "kernelspec": {
      "display_name": "Python 3",
      "language": "python",
      "name": "python3"
    },
    "language_info": {
      "codemirror_mode": {
        "name": "ipython",
        "version": 3
      },
      "file_extension": ".py",
      "mimetype": "text/x-python",
      "name": "python",
      "nbconvert_exporter": "python",
      "pygments_lexer": "ipython3",
      "version": "3.7.7"
    },
    "toc": {
      "base_numbering": 1,
      "nav_menu": {},
      "number_sections": true,
      "sideBar": true,
      "skip_h1_title": false,
      "title_cell": "Table of Contents",
      "title_sidebar": "Contents",
      "toc_cell": false,
      "toc_position": {},
      "toc_section_display": true,
      "toc_window_display": false
    }
  },
  "cells": [
    {
      "cell_type": "markdown",
      "metadata": {
        "id": "view-in-github",
        "colab_type": "text"
      },
      "source": [
        "<a href=\"https://colab.research.google.com/github/jhhalls/Learning_python/blob/master/mnist_classification_sklearn.ipynb\" target=\"_parent\"><img src=\"https://colab.research.google.com/assets/colab-badge.svg\" alt=\"Open In Colab\"/></a>"
      ]
    },
    {
      "cell_type": "markdown",
      "metadata": {
        "_uuid": "07a5ed40d7fe0e3f98ae078ca049fa453f4f9185",
        "colab_type": "text",
        "id": "eVWcfzdn70cr"
      },
      "source": [
        "# MNIST Classification"
      ]
    },
    {
      "cell_type": "markdown",
      "metadata": {
        "_uuid": "59b2e457b76263ec7d8bc71433ca5d70d301ecf0",
        "colab_type": "text",
        "id": "4P3A_VMe70cs"
      },
      "source": [
        "######  @ author: Rohit_Raj_Jalheria"
      ]
    },
    {
      "cell_type": "markdown",
      "metadata": {
        "_uuid": "9afbe0af0551a9a4b7490e585ea0e52344924451",
        "colab_type": "text",
        "id": "lwiVNzZV70ct"
      },
      "source": [
        "1. Introduction  \n",
        "2. Data Exploration  \n",
        "    2.1 Load Data  \n",
        "    2.2 Check for null values  \n",
        "    2.3 Understand data\n",
        "3. Data Preprocessing  \n",
        "    3.1 Feature Scaling / Normalization  \n",
        "    3.2 Label Encoding  \n",
        "4. Build Models  \n",
        "    4.1  SVM  \n",
        "    4.2 KNeighbors  \n",
        "    4.3 Random Forest  \n",
        "    4.4 Neural Network\n",
        "5. Evaluate Models  \n",
        "    5.1 Cross Validation   \n",
        "6. Hyperparameter Tuning  \n",
        "7. Predict and Submit  \n",
        "    7.1 Confusion Matrix  \n",
        "    7.2 Precision, Recall and F1 Scores  \n",
        "    7.3 Predict and Submit Results"
      ]
    },
    {
      "cell_type": "markdown",
      "metadata": {
        "_uuid": "665d7e5919ca12f4c7705796d2d6f4dd0f5a2caf",
        "colab_type": "text",
        "id": "WsfhfU5s70cu"
      },
      "source": [
        "#  Introduction\n",
        "\n",
        "Hello Instructors! I started this kernel right after I finished my sessions on **Classification**, and since they say \"MNIST is the `hello world` of classification\", I jumped into my First Project on Machine Learning to have some hands on experience.\n",
        "\n",
        "This kernel consists of *7 main parts*, and 5th and 6th are a bit interchangeble. I will try to build 3 different models to classify MNIST images, SVM, KNN, and Random Decision Forest."
      ]
    },
    {
      "cell_type": "markdown",
      "metadata": {
        "_uuid": "665d7e5919ca12f4c7705796d2d6f4dd0f5a2caf",
        "colab_type": "text",
        "id": "bM1_DqXVt0jQ"
      },
      "source": [
        "##### So let's sail !"
      ]
    },
    {
      "cell_type": "markdown",
      "metadata": {
        "_uuid": "0fbca08d5d31c7fe49de0b3d3d5a793b9f0471b4",
        "colab_type": "text",
        "id": "Vq_yWur570cv"
      },
      "source": [
        "# Data Exploration\n",
        "\n",
        "This is the part where I get to know the data, how is it formatted, what properties it has etc."
      ]
    },
    {
      "cell_type": "markdown",
      "metadata": {
        "_uuid": "89048e64f22f3cec1ed645fbb3287db1a6316869",
        "colab_type": "text",
        "id": "T42fAnCP70cw"
      },
      "source": [
        "###  Load Data"
      ]
    },
    {
      "cell_type": "code",
      "metadata": {
        "_uuid": "b3a704a71189ac9b8fe0713457b98a2f5d652b5a",
        "colab_type": "code",
        "id": "YgDxZpZw70cx",
        "colab": {
          "base_uri": "https://localhost:8080/",
          "height": 71
        },
        "outputId": "706e2ff7-b559-4bc6-9110-d494e8e8a36b"
      },
      "source": [
        "import numpy as np # linear algebra\n",
        "import pandas as pd # data processing, CSV file I/O (e.g. pd.read_csv)\n",
        "\n",
        "%matplotlib inline \n",
        "import matplotlib\n",
        "import matplotlib.pyplot as plt\n",
        "import seaborn as sns\n",
        "import os"
      ],
      "execution_count": 6,
      "outputs": [
        {
          "output_type": "stream",
          "text": [
            "/usr/local/lib/python3.6/dist-packages/statsmodels/tools/_testing.py:19: FutureWarning: pandas.util.testing is deprecated. Use the functions in the public API at pandas.testing instead.\n",
            "  import pandas.util.testing as tm\n"
          ],
          "name": "stderr"
        }
      ]
    },
    {
      "cell_type": "code",
      "metadata": {
        "id": "MPD1drvPw3rV",
        "colab_type": "code",
        "colab": {
          "base_uri": "https://localhost:8080/",
          "height": 54
        },
        "outputId": "341d6257-5f71-4e1d-9ce6-1c6ebaab89b9"
      },
      "source": [
        "from google.colab import drive\n",
        "drive.mount(\"/content/gdrive\")"
      ],
      "execution_count": 7,
      "outputs": [
        {
          "output_type": "stream",
          "text": [
            "Drive already mounted at /content/gdrive; to attempt to forcibly remount, call drive.mount(\"/content/gdrive\", force_remount=True).\n"
          ],
          "name": "stdout"
        }
      ]
    },
    {
      "cell_type": "code",
      "metadata": {
        "id": "yRM7xKNTzR8e",
        "colab_type": "code",
        "colab": {
          "base_uri": "https://localhost:8080/",
          "height": 34
        },
        "outputId": "bff0686a-2033-4284-fc96-6df475c59285"
      },
      "source": [
        "!ls"
      ],
      "execution_count": 8,
      "outputs": [
        {
          "output_type": "stream",
          "text": [
            "gdrive\tsample_data  x_test.csv  x_train.csv  y_test.csv  y_train.csv\n"
          ],
          "name": "stdout"
        }
      ]
    },
    {
      "cell_type": "code",
      "metadata": {
        "_uuid": "8dce4c14e3cfa76bb83eb80a51bf9105206a516b",
        "colab_type": "code",
        "id": "sTS_r8kw70c0",
        "colab": {}
      },
      "source": [
        "train = pd.read_csv(\"/content/gdrive/My Drive/mnist_data/mnist_train.csv\")\n",
        "test = pd.read_csv(\"/content/gdrive/My Drive/mnist_data/mnist_test.csv\")"
      ],
      "execution_count": 9,
      "outputs": []
    },
    {
      "cell_type": "code",
      "metadata": {
        "_uuid": "83fed73b1fa583098656df1ddc79a0e3e6a8e158",
        "colab_type": "code",
        "id": "feBbq7fu70c2",
        "colab": {
          "base_uri": "https://localhost:8080/",
          "height": 102
        },
        "outputId": "5d257295-a16b-4c45-fb0b-ded62aaef4a5"
      },
      "source": [
        "train.info()"
      ],
      "execution_count": 10,
      "outputs": [
        {
          "output_type": "stream",
          "text": [
            "<class 'pandas.core.frame.DataFrame'>\n",
            "RangeIndex: 59999 entries, 0 to 59998\n",
            "Columns: 785 entries, 5 to 0.617\n",
            "dtypes: int64(785)\n",
            "memory usage: 359.3 MB\n"
          ],
          "name": "stdout"
        }
      ]
    },
    {
      "cell_type": "code",
      "metadata": {
        "_uuid": "d3ef6c5ad4595a240f05b44e74237ee267f74abd",
        "colab_type": "code",
        "id": "-0_SvW-i70c6",
        "colab": {
          "base_uri": "https://localhost:8080/",
          "height": 102
        },
        "outputId": "6eea3f25-b459-4823-b717-dee5bed9867f"
      },
      "source": [
        "test.info()"
      ],
      "execution_count": 11,
      "outputs": [
        {
          "output_type": "stream",
          "text": [
            "<class 'pandas.core.frame.DataFrame'>\n",
            "RangeIndex: 9999 entries, 0 to 9998\n",
            "Columns: 785 entries, 7 to 0.667\n",
            "dtypes: int64(785)\n",
            "memory usage: 59.9 MB\n"
          ],
          "name": "stdout"
        }
      ]
    },
    {
      "cell_type": "code",
      "metadata": {
        "id": "mIOI05rnt0jw",
        "colab_type": "code",
        "colab": {
          "base_uri": "https://localhost:8080/",
          "height": 34
        },
        "outputId": "a5e91f73-b18b-4fdd-eac7-197272aa1cca"
      },
      "source": [
        "train.shape"
      ],
      "execution_count": 12,
      "outputs": [
        {
          "output_type": "execute_result",
          "data": {
            "text/plain": [
              "(59999, 785)"
            ]
          },
          "metadata": {
            "tags": []
          },
          "execution_count": 12
        }
      ]
    },
    {
      "cell_type": "code",
      "metadata": {
        "id": "RqBCahxzt0j3",
        "colab_type": "code",
        "colab": {
          "base_uri": "https://localhost:8080/",
          "height": 253
        },
        "outputId": "3bffbba5-9d1b-4684-bac2-c8b731af6060"
      },
      "source": [
        "train.head()"
      ],
      "execution_count": 13,
      "outputs": [
        {
          "output_type": "execute_result",
          "data": {
            "text/html": [
              "<div>\n",
              "<style scoped>\n",
              "    .dataframe tbody tr th:only-of-type {\n",
              "        vertical-align: middle;\n",
              "    }\n",
              "\n",
              "    .dataframe tbody tr th {\n",
              "        vertical-align: top;\n",
              "    }\n",
              "\n",
              "    .dataframe thead th {\n",
              "        text-align: right;\n",
              "    }\n",
              "</style>\n",
              "<table border=\"1\" class=\"dataframe\">\n",
              "  <thead>\n",
              "    <tr style=\"text-align: right;\">\n",
              "      <th></th>\n",
              "      <th>5</th>\n",
              "      <th>0</th>\n",
              "      <th>0.1</th>\n",
              "      <th>0.2</th>\n",
              "      <th>0.3</th>\n",
              "      <th>0.4</th>\n",
              "      <th>0.5</th>\n",
              "      <th>0.6</th>\n",
              "      <th>0.7</th>\n",
              "      <th>0.8</th>\n",
              "      <th>0.9</th>\n",
              "      <th>0.10</th>\n",
              "      <th>0.11</th>\n",
              "      <th>0.12</th>\n",
              "      <th>0.13</th>\n",
              "      <th>0.14</th>\n",
              "      <th>0.15</th>\n",
              "      <th>0.16</th>\n",
              "      <th>0.17</th>\n",
              "      <th>0.18</th>\n",
              "      <th>0.19</th>\n",
              "      <th>0.20</th>\n",
              "      <th>0.21</th>\n",
              "      <th>0.22</th>\n",
              "      <th>0.23</th>\n",
              "      <th>0.24</th>\n",
              "      <th>0.25</th>\n",
              "      <th>0.26</th>\n",
              "      <th>0.27</th>\n",
              "      <th>0.28</th>\n",
              "      <th>0.29</th>\n",
              "      <th>0.30</th>\n",
              "      <th>0.31</th>\n",
              "      <th>0.32</th>\n",
              "      <th>0.33</th>\n",
              "      <th>0.34</th>\n",
              "      <th>0.35</th>\n",
              "      <th>0.36</th>\n",
              "      <th>0.37</th>\n",
              "      <th>0.38</th>\n",
              "      <th>...</th>\n",
              "      <th>0.578</th>\n",
              "      <th>0.579</th>\n",
              "      <th>0.580</th>\n",
              "      <th>0.581</th>\n",
              "      <th>0.582</th>\n",
              "      <th>0.583</th>\n",
              "      <th>0.584</th>\n",
              "      <th>0.585</th>\n",
              "      <th>0.586</th>\n",
              "      <th>0.587</th>\n",
              "      <th>0.588</th>\n",
              "      <th>0.589</th>\n",
              "      <th>0.590</th>\n",
              "      <th>0.591</th>\n",
              "      <th>0.592</th>\n",
              "      <th>0.593</th>\n",
              "      <th>0.594</th>\n",
              "      <th>0.595</th>\n",
              "      <th>0.596</th>\n",
              "      <th>0.597</th>\n",
              "      <th>0.598</th>\n",
              "      <th>0.599</th>\n",
              "      <th>0.600</th>\n",
              "      <th>0.601</th>\n",
              "      <th>0.602</th>\n",
              "      <th>0.603</th>\n",
              "      <th>0.604</th>\n",
              "      <th>0.605</th>\n",
              "      <th>0.606</th>\n",
              "      <th>0.607</th>\n",
              "      <th>0.608</th>\n",
              "      <th>0.609</th>\n",
              "      <th>0.610</th>\n",
              "      <th>0.611</th>\n",
              "      <th>0.612</th>\n",
              "      <th>0.613</th>\n",
              "      <th>0.614</th>\n",
              "      <th>0.615</th>\n",
              "      <th>0.616</th>\n",
              "      <th>0.617</th>\n",
              "    </tr>\n",
              "  </thead>\n",
              "  <tbody>\n",
              "    <tr>\n",
              "      <th>0</th>\n",
              "      <td>0</td>\n",
              "      <td>0</td>\n",
              "      <td>0</td>\n",
              "      <td>0</td>\n",
              "      <td>0</td>\n",
              "      <td>0</td>\n",
              "      <td>0</td>\n",
              "      <td>0</td>\n",
              "      <td>0</td>\n",
              "      <td>0</td>\n",
              "      <td>0</td>\n",
              "      <td>0</td>\n",
              "      <td>0</td>\n",
              "      <td>0</td>\n",
              "      <td>0</td>\n",
              "      <td>0</td>\n",
              "      <td>0</td>\n",
              "      <td>0</td>\n",
              "      <td>0</td>\n",
              "      <td>0</td>\n",
              "      <td>0</td>\n",
              "      <td>0</td>\n",
              "      <td>0</td>\n",
              "      <td>0</td>\n",
              "      <td>0</td>\n",
              "      <td>0</td>\n",
              "      <td>0</td>\n",
              "      <td>0</td>\n",
              "      <td>0</td>\n",
              "      <td>0</td>\n",
              "      <td>0</td>\n",
              "      <td>0</td>\n",
              "      <td>0</td>\n",
              "      <td>0</td>\n",
              "      <td>0</td>\n",
              "      <td>0</td>\n",
              "      <td>0</td>\n",
              "      <td>0</td>\n",
              "      <td>0</td>\n",
              "      <td>0</td>\n",
              "      <td>...</td>\n",
              "      <td>0</td>\n",
              "      <td>0</td>\n",
              "      <td>0</td>\n",
              "      <td>0</td>\n",
              "      <td>0</td>\n",
              "      <td>0</td>\n",
              "      <td>0</td>\n",
              "      <td>0</td>\n",
              "      <td>0</td>\n",
              "      <td>0</td>\n",
              "      <td>0</td>\n",
              "      <td>0</td>\n",
              "      <td>0</td>\n",
              "      <td>0</td>\n",
              "      <td>0</td>\n",
              "      <td>0</td>\n",
              "      <td>0</td>\n",
              "      <td>0</td>\n",
              "      <td>0</td>\n",
              "      <td>0</td>\n",
              "      <td>0</td>\n",
              "      <td>0</td>\n",
              "      <td>0</td>\n",
              "      <td>0</td>\n",
              "      <td>0</td>\n",
              "      <td>0</td>\n",
              "      <td>0</td>\n",
              "      <td>0</td>\n",
              "      <td>0</td>\n",
              "      <td>0</td>\n",
              "      <td>0</td>\n",
              "      <td>0</td>\n",
              "      <td>0</td>\n",
              "      <td>0</td>\n",
              "      <td>0</td>\n",
              "      <td>0</td>\n",
              "      <td>0</td>\n",
              "      <td>0</td>\n",
              "      <td>0</td>\n",
              "      <td>0</td>\n",
              "    </tr>\n",
              "    <tr>\n",
              "      <th>1</th>\n",
              "      <td>4</td>\n",
              "      <td>0</td>\n",
              "      <td>0</td>\n",
              "      <td>0</td>\n",
              "      <td>0</td>\n",
              "      <td>0</td>\n",
              "      <td>0</td>\n",
              "      <td>0</td>\n",
              "      <td>0</td>\n",
              "      <td>0</td>\n",
              "      <td>0</td>\n",
              "      <td>0</td>\n",
              "      <td>0</td>\n",
              "      <td>0</td>\n",
              "      <td>0</td>\n",
              "      <td>0</td>\n",
              "      <td>0</td>\n",
              "      <td>0</td>\n",
              "      <td>0</td>\n",
              "      <td>0</td>\n",
              "      <td>0</td>\n",
              "      <td>0</td>\n",
              "      <td>0</td>\n",
              "      <td>0</td>\n",
              "      <td>0</td>\n",
              "      <td>0</td>\n",
              "      <td>0</td>\n",
              "      <td>0</td>\n",
              "      <td>0</td>\n",
              "      <td>0</td>\n",
              "      <td>0</td>\n",
              "      <td>0</td>\n",
              "      <td>0</td>\n",
              "      <td>0</td>\n",
              "      <td>0</td>\n",
              "      <td>0</td>\n",
              "      <td>0</td>\n",
              "      <td>0</td>\n",
              "      <td>0</td>\n",
              "      <td>0</td>\n",
              "      <td>...</td>\n",
              "      <td>0</td>\n",
              "      <td>0</td>\n",
              "      <td>0</td>\n",
              "      <td>0</td>\n",
              "      <td>0</td>\n",
              "      <td>0</td>\n",
              "      <td>0</td>\n",
              "      <td>0</td>\n",
              "      <td>0</td>\n",
              "      <td>0</td>\n",
              "      <td>0</td>\n",
              "      <td>0</td>\n",
              "      <td>0</td>\n",
              "      <td>0</td>\n",
              "      <td>0</td>\n",
              "      <td>0</td>\n",
              "      <td>0</td>\n",
              "      <td>0</td>\n",
              "      <td>0</td>\n",
              "      <td>0</td>\n",
              "      <td>0</td>\n",
              "      <td>0</td>\n",
              "      <td>0</td>\n",
              "      <td>0</td>\n",
              "      <td>0</td>\n",
              "      <td>0</td>\n",
              "      <td>0</td>\n",
              "      <td>0</td>\n",
              "      <td>0</td>\n",
              "      <td>0</td>\n",
              "      <td>0</td>\n",
              "      <td>0</td>\n",
              "      <td>0</td>\n",
              "      <td>0</td>\n",
              "      <td>0</td>\n",
              "      <td>0</td>\n",
              "      <td>0</td>\n",
              "      <td>0</td>\n",
              "      <td>0</td>\n",
              "      <td>0</td>\n",
              "    </tr>\n",
              "    <tr>\n",
              "      <th>2</th>\n",
              "      <td>1</td>\n",
              "      <td>0</td>\n",
              "      <td>0</td>\n",
              "      <td>0</td>\n",
              "      <td>0</td>\n",
              "      <td>0</td>\n",
              "      <td>0</td>\n",
              "      <td>0</td>\n",
              "      <td>0</td>\n",
              "      <td>0</td>\n",
              "      <td>0</td>\n",
              "      <td>0</td>\n",
              "      <td>0</td>\n",
              "      <td>0</td>\n",
              "      <td>0</td>\n",
              "      <td>0</td>\n",
              "      <td>0</td>\n",
              "      <td>0</td>\n",
              "      <td>0</td>\n",
              "      <td>0</td>\n",
              "      <td>0</td>\n",
              "      <td>0</td>\n",
              "      <td>0</td>\n",
              "      <td>0</td>\n",
              "      <td>0</td>\n",
              "      <td>0</td>\n",
              "      <td>0</td>\n",
              "      <td>0</td>\n",
              "      <td>0</td>\n",
              "      <td>0</td>\n",
              "      <td>0</td>\n",
              "      <td>0</td>\n",
              "      <td>0</td>\n",
              "      <td>0</td>\n",
              "      <td>0</td>\n",
              "      <td>0</td>\n",
              "      <td>0</td>\n",
              "      <td>0</td>\n",
              "      <td>0</td>\n",
              "      <td>0</td>\n",
              "      <td>...</td>\n",
              "      <td>0</td>\n",
              "      <td>0</td>\n",
              "      <td>0</td>\n",
              "      <td>0</td>\n",
              "      <td>0</td>\n",
              "      <td>0</td>\n",
              "      <td>0</td>\n",
              "      <td>0</td>\n",
              "      <td>0</td>\n",
              "      <td>0</td>\n",
              "      <td>0</td>\n",
              "      <td>0</td>\n",
              "      <td>0</td>\n",
              "      <td>0</td>\n",
              "      <td>0</td>\n",
              "      <td>0</td>\n",
              "      <td>0</td>\n",
              "      <td>0</td>\n",
              "      <td>0</td>\n",
              "      <td>0</td>\n",
              "      <td>0</td>\n",
              "      <td>0</td>\n",
              "      <td>0</td>\n",
              "      <td>0</td>\n",
              "      <td>0</td>\n",
              "      <td>0</td>\n",
              "      <td>0</td>\n",
              "      <td>0</td>\n",
              "      <td>0</td>\n",
              "      <td>0</td>\n",
              "      <td>0</td>\n",
              "      <td>0</td>\n",
              "      <td>0</td>\n",
              "      <td>0</td>\n",
              "      <td>0</td>\n",
              "      <td>0</td>\n",
              "      <td>0</td>\n",
              "      <td>0</td>\n",
              "      <td>0</td>\n",
              "      <td>0</td>\n",
              "    </tr>\n",
              "    <tr>\n",
              "      <th>3</th>\n",
              "      <td>9</td>\n",
              "      <td>0</td>\n",
              "      <td>0</td>\n",
              "      <td>0</td>\n",
              "      <td>0</td>\n",
              "      <td>0</td>\n",
              "      <td>0</td>\n",
              "      <td>0</td>\n",
              "      <td>0</td>\n",
              "      <td>0</td>\n",
              "      <td>0</td>\n",
              "      <td>0</td>\n",
              "      <td>0</td>\n",
              "      <td>0</td>\n",
              "      <td>0</td>\n",
              "      <td>0</td>\n",
              "      <td>0</td>\n",
              "      <td>0</td>\n",
              "      <td>0</td>\n",
              "      <td>0</td>\n",
              "      <td>0</td>\n",
              "      <td>0</td>\n",
              "      <td>0</td>\n",
              "      <td>0</td>\n",
              "      <td>0</td>\n",
              "      <td>0</td>\n",
              "      <td>0</td>\n",
              "      <td>0</td>\n",
              "      <td>0</td>\n",
              "      <td>0</td>\n",
              "      <td>0</td>\n",
              "      <td>0</td>\n",
              "      <td>0</td>\n",
              "      <td>0</td>\n",
              "      <td>0</td>\n",
              "      <td>0</td>\n",
              "      <td>0</td>\n",
              "      <td>0</td>\n",
              "      <td>0</td>\n",
              "      <td>0</td>\n",
              "      <td>...</td>\n",
              "      <td>147</td>\n",
              "      <td>252</td>\n",
              "      <td>42</td>\n",
              "      <td>0</td>\n",
              "      <td>0</td>\n",
              "      <td>0</td>\n",
              "      <td>0</td>\n",
              "      <td>0</td>\n",
              "      <td>0</td>\n",
              "      <td>0</td>\n",
              "      <td>0</td>\n",
              "      <td>0</td>\n",
              "      <td>0</td>\n",
              "      <td>0</td>\n",
              "      <td>0</td>\n",
              "      <td>0</td>\n",
              "      <td>0</td>\n",
              "      <td>0</td>\n",
              "      <td>0</td>\n",
              "      <td>0</td>\n",
              "      <td>0</td>\n",
              "      <td>0</td>\n",
              "      <td>0</td>\n",
              "      <td>0</td>\n",
              "      <td>0</td>\n",
              "      <td>0</td>\n",
              "      <td>0</td>\n",
              "      <td>0</td>\n",
              "      <td>0</td>\n",
              "      <td>0</td>\n",
              "      <td>0</td>\n",
              "      <td>0</td>\n",
              "      <td>0</td>\n",
              "      <td>0</td>\n",
              "      <td>0</td>\n",
              "      <td>0</td>\n",
              "      <td>0</td>\n",
              "      <td>0</td>\n",
              "      <td>0</td>\n",
              "      <td>0</td>\n",
              "    </tr>\n",
              "    <tr>\n",
              "      <th>4</th>\n",
              "      <td>2</td>\n",
              "      <td>0</td>\n",
              "      <td>0</td>\n",
              "      <td>0</td>\n",
              "      <td>0</td>\n",
              "      <td>0</td>\n",
              "      <td>0</td>\n",
              "      <td>0</td>\n",
              "      <td>0</td>\n",
              "      <td>0</td>\n",
              "      <td>0</td>\n",
              "      <td>0</td>\n",
              "      <td>0</td>\n",
              "      <td>0</td>\n",
              "      <td>0</td>\n",
              "      <td>0</td>\n",
              "      <td>0</td>\n",
              "      <td>0</td>\n",
              "      <td>0</td>\n",
              "      <td>0</td>\n",
              "      <td>0</td>\n",
              "      <td>0</td>\n",
              "      <td>0</td>\n",
              "      <td>0</td>\n",
              "      <td>0</td>\n",
              "      <td>0</td>\n",
              "      <td>0</td>\n",
              "      <td>0</td>\n",
              "      <td>0</td>\n",
              "      <td>0</td>\n",
              "      <td>0</td>\n",
              "      <td>0</td>\n",
              "      <td>0</td>\n",
              "      <td>0</td>\n",
              "      <td>0</td>\n",
              "      <td>0</td>\n",
              "      <td>0</td>\n",
              "      <td>0</td>\n",
              "      <td>0</td>\n",
              "      <td>0</td>\n",
              "      <td>...</td>\n",
              "      <td>0</td>\n",
              "      <td>0</td>\n",
              "      <td>0</td>\n",
              "      <td>0</td>\n",
              "      <td>0</td>\n",
              "      <td>0</td>\n",
              "      <td>0</td>\n",
              "      <td>0</td>\n",
              "      <td>0</td>\n",
              "      <td>0</td>\n",
              "      <td>0</td>\n",
              "      <td>0</td>\n",
              "      <td>0</td>\n",
              "      <td>0</td>\n",
              "      <td>0</td>\n",
              "      <td>0</td>\n",
              "      <td>0</td>\n",
              "      <td>0</td>\n",
              "      <td>0</td>\n",
              "      <td>0</td>\n",
              "      <td>0</td>\n",
              "      <td>0</td>\n",
              "      <td>0</td>\n",
              "      <td>0</td>\n",
              "      <td>0</td>\n",
              "      <td>0</td>\n",
              "      <td>0</td>\n",
              "      <td>0</td>\n",
              "      <td>0</td>\n",
              "      <td>0</td>\n",
              "      <td>0</td>\n",
              "      <td>0</td>\n",
              "      <td>0</td>\n",
              "      <td>0</td>\n",
              "      <td>0</td>\n",
              "      <td>0</td>\n",
              "      <td>0</td>\n",
              "      <td>0</td>\n",
              "      <td>0</td>\n",
              "      <td>0</td>\n",
              "    </tr>\n",
              "  </tbody>\n",
              "</table>\n",
              "<p>5 rows × 785 columns</p>\n",
              "</div>"
            ],
            "text/plain": [
              "   5  0  0.1  0.2  0.3  0.4  ...  0.612  0.613  0.614  0.615  0.616  0.617\n",
              "0  0  0    0    0    0    0  ...      0      0      0      0      0      0\n",
              "1  4  0    0    0    0    0  ...      0      0      0      0      0      0\n",
              "2  1  0    0    0    0    0  ...      0      0      0      0      0      0\n",
              "3  9  0    0    0    0    0  ...      0      0      0      0      0      0\n",
              "4  2  0    0    0    0    0  ...      0      0      0      0      0      0\n",
              "\n",
              "[5 rows x 785 columns]"
            ]
          },
          "metadata": {
            "tags": []
          },
          "execution_count": 13
        }
      ]
    },
    {
      "cell_type": "markdown",
      "metadata": {
        "id": "6bgAdz58t0j-",
        "colab_type": "raw"
      },
      "source": [
        ""
      ]
    },
    {
      "cell_type": "code",
      "metadata": {
        "id": "_csICP4Ct0j_",
        "colab_type": "code",
        "colab": {}
      },
      "source": [
        ""
      ],
      "execution_count": 13,
      "outputs": []
    },
    {
      "cell_type": "code",
      "metadata": {
        "id": "ZcaosaVKt0kE",
        "colab_type": "code",
        "colab": {}
      },
      "source": [
        ""
      ],
      "execution_count": 13,
      "outputs": []
    },
    {
      "cell_type": "code",
      "metadata": {
        "id": "bbZVI0OEt0kK",
        "colab_type": "code",
        "colab": {}
      },
      "source": [
        ""
      ],
      "execution_count": 13,
      "outputs": []
    },
    {
      "cell_type": "markdown",
      "metadata": {
        "_uuid": "1d9797680bded826cccf37e75a22081c77bd7b51",
        "colab_type": "text",
        "id": "7i7kYHh_70c-"
      },
      "source": [
        "Test set is missing one column, and that is the `label` column, since images are in the form of `28x28` we have `784` feature columns for each image."
      ]
    },
    {
      "cell_type": "markdown",
      "metadata": {
        "_uuid": "8422f678f21bba3818063de42d3030c09842e295",
        "colab_type": "text",
        "id": "syDdds8770c-"
      },
      "source": [
        "### 2.2 Check for null values "
      ]
    },
    {
      "cell_type": "code",
      "metadata": {
        "_uuid": "aaa63ce022ce255326b398b416f373599de2aa8f",
        "colab_type": "code",
        "id": "0gCaq2GQ70c_",
        "colab": {
          "base_uri": "https://localhost:8080/",
          "height": 102
        },
        "outputId": "ebf5834d-9dc1-4987-f05a-30354993da2d"
      },
      "source": [
        "train.isnull().any().describe()"
      ],
      "execution_count": 14,
      "outputs": [
        {
          "output_type": "execute_result",
          "data": {
            "text/plain": [
              "count       785\n",
              "unique        1\n",
              "top       False\n",
              "freq        785\n",
              "dtype: object"
            ]
          },
          "metadata": {
            "tags": []
          },
          "execution_count": 14
        }
      ]
    },
    {
      "cell_type": "code",
      "metadata": {
        "_uuid": "b21a0680886ac1230d7237cb4a6779ddc76a990c",
        "colab_type": "code",
        "id": "7vUvyrZd70dE",
        "colab": {
          "base_uri": "https://localhost:8080/",
          "height": 102
        },
        "outputId": "0c7d560d-3aa7-4053-fb6a-86c9ed2faac3"
      },
      "source": [
        "test.isnull().any().describe()"
      ],
      "execution_count": 15,
      "outputs": [
        {
          "output_type": "execute_result",
          "data": {
            "text/plain": [
              "count       785\n",
              "unique        1\n",
              "top       False\n",
              "freq        785\n",
              "dtype: object"
            ]
          },
          "metadata": {
            "tags": []
          },
          "execution_count": 15
        }
      ]
    },
    {
      "cell_type": "markdown",
      "metadata": {
        "_uuid": "947b36158a49d4463e7b27a2bc1d91d6c5d582ce",
        "colab_type": "text",
        "id": "3KGs3kUm70dH"
      },
      "source": [
        "It seems like we do not have any missing values. Perfect!"
      ]
    },
    {
      "cell_type": "markdown",
      "metadata": {
        "_uuid": "58a5eadfb98996b6eb49d85b18c196fd10d94a07",
        "colab_type": "text",
        "id": "d5wrYWRj70dH"
      },
      "source": [
        "### 2.3 Split the Data\n",
        "\n",
        "As I learned; we should always put our test set aside when we are exploring dataset, to prevent our brain to mislead us. Since we are trying to create a solution that generalizes and not memorizes, it is important to modify our data by looking at only to train set and not the test set. Test set should only be used for final evaluation."
      ]
    },
    {
      "cell_type": "code",
      "metadata": {
        "_uuid": "e9f43240052ccb2452105926b4862196e22dd023",
        "colab_type": "code",
        "id": "0uzL2jiX70dJ",
        "colab": {}
      },
      "source": [
        "from sklearn.model_selection import train_test_split"
      ],
      "execution_count": 16,
      "outputs": []
    },
    {
      "cell_type": "code",
      "metadata": {
        "_uuid": "4aa57e2e5cd61286b7dad9ee635ae892f67229a7",
        "colab_type": "code",
        "id": "4nsBTNYx70dM",
        "colab": {
          "base_uri": "https://localhost:8080/",
          "height": 102
        },
        "outputId": "ca6965df-7019-40c6-cda4-49e36cf43531"
      },
      "source": [
        "x_train = train.iloc[:,1:]\n",
        "x_test = test.iloc[:,1:]\n",
        "y_test = test.iloc[0:, 0]\n",
        "y_train = train.iloc[0:,0]\n",
        "\n",
        "\n",
        "print(\"Training Features:\", x_train.shape)\n",
        "print(\"Training Labels:\", y_train.shape)\n",
        "print(\"Testing Features:\", x_test.shape)\n",
        "print(\"Actual Labels:\", y_test.shape)\n",
        "print(\"Test Features:\", test.shape)"
      ],
      "execution_count": 17,
      "outputs": [
        {
          "output_type": "stream",
          "text": [
            "Training Features: (59999, 784)\n",
            "Training Labels: (59999,)\n",
            "Testing Features: (9999, 784)\n",
            "Actual Labels: (9999,)\n",
            "Test Features: (9999, 785)\n"
          ],
          "name": "stdout"
        }
      ]
    },
    {
      "cell_type": "markdown",
      "metadata": {
        "id": "TNIzx9Fvt0ks",
        "colab_type": "text"
      },
      "source": [
        "### save the files"
      ]
    },
    {
      "cell_type": "code",
      "metadata": {
        "id": "IZ3-iwN1t0kt",
        "colab_type": "code",
        "colab": {}
      },
      "source": [
        "x_test.to_csv('x_test.csv')\n",
        "x_train.to_csv('x_train.csv')\n",
        "y_test.to_csv('y_test.csv')\n",
        "y_train.to_csv('y_train.csv')"
      ],
      "execution_count": 18,
      "outputs": []
    },
    {
      "cell_type": "markdown",
      "metadata": {
        "_uuid": "2178f5786f2b7e1d9dde64572d5efe93986fc1e3",
        "colab_type": "text",
        "id": "v9sNFW0h70dO"
      },
      "source": [
        "### 2.4 Understand Data"
      ]
    },
    {
      "cell_type": "code",
      "metadata": {
        "_uuid": "b8cc81b2d34702396c3af2f17270765542946b11",
        "colab_type": "code",
        "id": "CyUHMbrs70dO",
        "colab": {}
      },
      "source": [
        "x_train_explore = x_train.copy()\n",
        "y_train_explore = y_train.copy()\n",
        "\n",
        "# del x_train, y_train"
      ],
      "execution_count": 19,
      "outputs": []
    },
    {
      "cell_type": "code",
      "metadata": {
        "id": "EQrrgvAlt0k6",
        "colab_type": "code",
        "colab": {}
      },
      "source": [
        "x_test_explore = x_test.copy()\n",
        "y_test_explore = y_test.copy()"
      ],
      "execution_count": 20,
      "outputs": []
    },
    {
      "cell_type": "code",
      "metadata": {
        "_uuid": "1d7a2a527498c7e84882a9329cb9e7a8ed5d086a",
        "colab_type": "code",
        "id": "eMoElB5c70dT",
        "colab": {
          "base_uri": "https://localhost:8080/",
          "height": 170
        },
        "outputId": "ffbc24c5-77fb-4066-d077-9a84a27fc135"
      },
      "source": [
        "y_train_explore.describe()"
      ],
      "execution_count": 21,
      "outputs": [
        {
          "output_type": "execute_result",
          "data": {
            "text/plain": [
              "count    59999.000000\n",
              "mean         4.453924\n",
              "std          2.889294\n",
              "min          0.000000\n",
              "25%          2.000000\n",
              "50%          4.000000\n",
              "75%          7.000000\n",
              "max          9.000000\n",
              "Name: 5, dtype: float64"
            ]
          },
          "metadata": {
            "tags": []
          },
          "execution_count": 21
        }
      ]
    },
    {
      "cell_type": "code",
      "metadata": {
        "_uuid": "1d7a2a527498c7e84882a9329cb9e7a8ed5d086a",
        "colab_type": "code",
        "id": "FcWUNbDFt0lH",
        "colab": {
          "base_uri": "https://localhost:8080/",
          "height": 170
        },
        "outputId": "bb351eae-6ea7-43bf-c8b3-cc188937e9f8"
      },
      "source": [
        "y_train_explore.value_counts().describe()"
      ],
      "execution_count": 22,
      "outputs": [
        {
          "output_type": "execute_result",
          "data": {
            "text/plain": [
              "count      10.000000\n",
              "mean     5999.900000\n",
              "std       339.694781\n",
              "min      5420.000000\n",
              "25%      5867.750000\n",
              "50%      5936.000000\n",
              "75%      6087.750000\n",
              "max      6742.000000\n",
              "Name: 5, dtype: float64"
            ]
          },
          "metadata": {
            "tags": []
          },
          "execution_count": 22
        }
      ]
    },
    {
      "cell_type": "code",
      "metadata": {
        "id": "NInl7IIYt0lN",
        "colab_type": "code",
        "colab": {
          "base_uri": "https://localhost:8080/",
          "height": 34
        },
        "outputId": "b5eee90e-4f7e-495e-d80b-584d54126b8a"
      },
      "source": [
        "unique_labels = np.unique(y_train_explore)\n",
        "unique_labels"
      ],
      "execution_count": 23,
      "outputs": [
        {
          "output_type": "execute_result",
          "data": {
            "text/plain": [
              "array([0, 1, 2, 3, 4, 5, 6, 7, 8, 9])"
            ]
          },
          "metadata": {
            "tags": []
          },
          "execution_count": 23
        }
      ]
    },
    {
      "cell_type": "code",
      "metadata": {
        "id": "2b6-a9HIt0lT",
        "colab_type": "code",
        "colab": {
          "base_uri": "https://localhost:8080/",
          "height": 204
        },
        "outputId": "c56c1b76-57dd-4dad-fc27-aac372d76d37"
      },
      "source": [
        "frequency = y_train_explore.value_counts()\n",
        "frequency.sort_values(ascending=False)\n"
      ],
      "execution_count": 24,
      "outputs": [
        {
          "output_type": "execute_result",
          "data": {
            "text/plain": [
              "1    6742\n",
              "7    6265\n",
              "3    6131\n",
              "2    5958\n",
              "9    5949\n",
              "0    5923\n",
              "6    5918\n",
              "8    5851\n",
              "4    5842\n",
              "5    5420\n",
              "Name: 5, dtype: int64"
            ]
          },
          "metadata": {
            "tags": []
          },
          "execution_count": 24
        }
      ]
    },
    {
      "cell_type": "code",
      "metadata": {
        "_uuid": "fd093e753fbdd7ff3a609a1c2342faf1d2b0786a",
        "colab_type": "code",
        "id": "SfIzjMnA70dX",
        "scrolled": true,
        "colab": {
          "base_uri": "https://localhost:8080/",
          "height": 34
        },
        "outputId": "151bcbd3-6aba-4666-cce1-0db948aa7b92"
      },
      "source": [
        "type(frequency)"
      ],
      "execution_count": 25,
      "outputs": [
        {
          "output_type": "execute_result",
          "data": {
            "text/plain": [
              "pandas.core.series.Series"
            ]
          },
          "metadata": {
            "tags": []
          },
          "execution_count": 25
        }
      ]
    },
    {
      "cell_type": "code",
      "metadata": {
        "id": "o4uaresNt0le",
        "colab_type": "code",
        "colab": {
          "base_uri": "https://localhost:8080/",
          "height": 204
        },
        "outputId": "49ac3957-d172-4bd6-aa25-7d17a575d109"
      },
      "source": [
        "transpose = frequency.T\n",
        "transpose"
      ],
      "execution_count": 26,
      "outputs": [
        {
          "output_type": "execute_result",
          "data": {
            "text/plain": [
              "1    6742\n",
              "7    6265\n",
              "3    6131\n",
              "2    5958\n",
              "9    5949\n",
              "0    5923\n",
              "6    5918\n",
              "8    5851\n",
              "4    5842\n",
              "5    5420\n",
              "Name: 5, dtype: int64"
            ]
          },
          "metadata": {
            "tags": []
          },
          "execution_count": 26
        }
      ]
    },
    {
      "cell_type": "code",
      "metadata": {
        "id": "lf4S3oJHt0lk",
        "colab_type": "code",
        "colab": {
          "base_uri": "https://localhost:8080/",
          "height": 296
        },
        "outputId": "6b4745d3-bc3b-4147-bf08-ce92ee1a1da5"
      },
      "source": [
        "sns.countplot(x=frequency.index, data=frequency)"
      ],
      "execution_count": 27,
      "outputs": [
        {
          "output_type": "execute_result",
          "data": {
            "text/plain": [
              "<matplotlib.axes._subplots.AxesSubplot at 0x7f44fdda6588>"
            ]
          },
          "metadata": {
            "tags": []
          },
          "execution_count": 27
        },
        {
          "output_type": "display_data",
          "data": {
            "image/png": "[encoded data removed]",
            "text/plain": [
              "<Figure size 432x288 with 1 Axes>"
            ]
          },
          "metadata": {
            "tags": [],
            "needs_background": "light"
          }
        }
      ]
    },
    {
      "cell_type": "code",
      "metadata": {
        "id": "4pW0FzyMt0lp",
        "colab_type": "code",
        "colab": {
          "base_uri": "https://localhost:8080/",
          "height": 336
        },
        "outputId": "b58b2553-a54b-4a9d-d856-e4d01b20e8dc"
      },
      "source": [
        "plt.hist(x=frequency, orientation='horizontal')"
      ],
      "execution_count": 28,
      "outputs": [
        {
          "output_type": "execute_result",
          "data": {
            "text/plain": [
              "(array([1., 0., 0., 4., 2., 1., 1., 0., 0., 1.]),\n",
              " array([5420. , 5552.2, 5684.4, 5816.6, 5948.8, 6081. , 6213.2, 6345.4,\n",
              "        6477.6, 6609.8, 6742. ]),\n",
              " <a list of 10 Patch objects>)"
            ]
          },
          "metadata": {
            "tags": []
          },
          "execution_count": 28
        },
        {
          "output_type": "display_data",
          "data": {
            "image/png": "[encoded data removed]",
            "text/plain": [
              "<Figure size 432x288 with 1 Axes>"
            ]
          },
          "metadata": {
            "tags": [],
            "needs_background": "light"
          }
        }
      ]
    },
    {
      "cell_type": "code",
      "metadata": {
        "id": "iMGzGBsat0lu",
        "colab_type": "code",
        "colab": {
          "base_uri": "https://localhost:8080/",
          "height": 282
        },
        "outputId": "4af703a9-48dc-4d11-ec69-6ce0a9cc62f9"
      },
      "source": [
        "plt.plot(data=frequency.value_counts(), kind='line')"
      ],
      "execution_count": 29,
      "outputs": [
        {
          "output_type": "execute_result",
          "data": {
            "text/plain": [
              "[]"
            ]
          },
          "metadata": {
            "tags": []
          },
          "execution_count": 29
        },
        {
          "output_type": "display_data",
          "data": {
            "image/png": "[encoded data removed]",
            "text/plain": [
              "<Figure size 432x288 with 1 Axes>"
            ]
          },
          "metadata": {
            "tags": [],
            "needs_background": "light"
          }
        }
      ]
    },
    {
      "cell_type": "markdown",
      "metadata": {
        "_uuid": "a1184278631cefec89d166ca1298445b10c69dd8",
        "colab_type": "text",
        "id": "l80xF1Dm70db"
      },
      "source": [
        "It looks like only 5 is little less than 4000 and the rest is almost evenly distributed.  \n",
        "\n",
        "\n",
        "We can move on."
      ]
    },
    {
      "cell_type": "code",
      "metadata": {
        "_uuid": "07b30fb9d14dc4d21fd4cdbb2389ef80e91e7ea9",
        "colab_type": "code",
        "id": "yfvQpWyz70dc",
        "scrolled": true,
        "colab": {
          "base_uri": "https://localhost:8080/",
          "height": 248
        },
        "outputId": "269a5592-6716-4146-a160-7e923ae206e4"
      },
      "source": [
        "sample_digit = x_train_explore.iloc[2000] # a random instance\n",
        "sample_digit_image = sample_digit.values.reshape(28, 28) # reshape it from (784,) to (28,28)\n",
        "plt.imshow(sample_digit_image, # plot it as an image\n",
        "           cmap = matplotlib.cm.binary,\n",
        "           interpolation=\"nearest\")\n",
        "plt.axis(\"off\")\n",
        "plt.show()"
      ],
      "execution_count": 30,
      "outputs": [
        {
          "output_type": "display_data",
          "data": {
            "image/png": "[encoded data removed]",
            "text/plain": [
              "<Figure size 432x288 with 1 Axes>"
            ]
          },
          "metadata": {
            "tags": [],
            "needs_background": "light"
          }
        }
      ]
    },
    {
      "cell_type": "markdown",
      "metadata": {
        "_uuid": "383f68ed790ad78ac823b91823db0f16cfa4b53c",
        "colab_type": "text",
        "id": "dXDtmbdZ70dg"
      },
      "source": [
        "As you can see our data is in this given format."
      ]
    },
    {
      "cell_type": "markdown",
      "metadata": {
        "_uuid": "eb0a9653e96198c80ae671f4721995973ea3eb61",
        "colab_type": "text",
        "id": "lQpU1vlr70dh"
      },
      "source": [
        "# 3. Data Preprocessing"
      ]
    },
    {
      "cell_type": "markdown",
      "metadata": {
        "_uuid": "cca65b9249f5aad79bc0319a7fc4e3dd5d7cb884",
        "colab_type": "text",
        "id": "CAH-vjs270dh"
      },
      "source": [
        "### 3.1 Feature Scaling / Normalization"
      ]
    },
    {
      "cell_type": "markdown",
      "metadata": {
        "_uuid": "a3a42dd9f5693ec920c528470ae38a0766ad7e06",
        "colab_type": "text",
        "id": "PkaQmrMj70di"
      },
      "source": [
        "Working with numerical data that is in between `0-1` is more effective for most of the machine learning algortihms than `0-255`.  \n",
        "We can easily scale our features to `0-1` range by dividing to `max` value (255).\n",
        "\n",
        "We could use `MinMaxScaler` from `sklearn.preprocessing` but since the formula for that is `(x-min)/(max-min)` and our `min` is 0, we could directly calculate `x/max` and that is `x/255`.  \n",
        "\n",
        "This is going to give the same result. So let's do it!\n"
      ]
    },
    {
      "cell_type": "code",
      "metadata": {
        "_uuid": "8142704d0decc5ec01c3d7e6a7f7ce38acf167bd",
        "colab_type": "code",
        "id": "AtvlmirX70dj",
        "colab": {
          "base_uri": "https://localhost:8080/",
          "height": 221
        },
        "outputId": "435aac5e-7976-4cfa-a402-e88171752fea"
      },
      "source": [
        "x_train_scaled = x_train_explore.copy()\n",
        "x_train_scaled = x_train_scaled / 255.0\n",
        "\n",
        "\n",
        "x_train_scaled.iloc[2]"
      ],
      "execution_count": 31,
      "outputs": [
        {
          "output_type": "execute_result",
          "data": {
            "text/plain": [
              "0        0.0\n",
              "0.1      0.0\n",
              "0.2      0.0\n",
              "0.3      0.0\n",
              "0.4      0.0\n",
              "        ... \n",
              "0.613    0.0\n",
              "0.614    0.0\n",
              "0.615    0.0\n",
              "0.616    0.0\n",
              "0.617    0.0\n",
              "Name: 2, Length: 784, dtype: float64"
            ]
          },
          "metadata": {
            "tags": []
          },
          "execution_count": 31
        }
      ]
    },
    {
      "cell_type": "code",
      "metadata": {
        "id": "xi6xtZUrt0mE",
        "colab_type": "code",
        "colab": {
          "base_uri": "https://localhost:8080/",
          "height": 1000
        },
        "outputId": "7cbd8f58-4b6e-4f07-b1d6-290cec303094"
      },
      "source": [
        "\n",
        "x_test_scaled = x_test_explore.copy()\n",
        "x_test_scaled = x_test_scaled / 255.0\n",
        "\n",
        "np.array(x_test_scaled.iloc[2]).reshape(28,28)"
      ],
      "execution_count": 32,
      "outputs": [
        {
          "output_type": "execute_result",
          "data": {
            "text/plain": [
              "array([[0.        , 0.        , 0.        , 0.        , 0.        ,\n",
              "        0.        , 0.        , 0.        , 0.        , 0.        ,\n",
              "        0.        , 0.        , 0.        , 0.        , 0.        ,\n",
              "        0.        , 0.        , 0.        , 0.        , 0.        ,\n",
              "        0.        , 0.        , 0.        , 0.        , 0.        ,\n",
              "        0.        , 0.        , 0.        ],\n",
              "       [0.        , 0.        , 0.        , 0.        , 0.        ,\n",
              "        0.        , 0.        , 0.        , 0.        , 0.        ,\n",
              "        0.        , 0.        , 0.        , 0.        , 0.        ,\n",
              "        0.        , 0.        , 0.        , 0.        , 0.        ,\n",
              "        0.        , 0.        , 0.        , 0.        , 0.        ,\n",
              "        0.        , 0.        , 0.        ],\n",
              "       [0.        , 0.        , 0.        , 0.        , 0.        ,\n",
              "        0.        , 0.        , 0.        , 0.        , 0.        ,\n",
              "        0.        , 0.        , 0.        , 0.        , 0.        ,\n",
              "        0.        , 0.        , 0.        , 0.        , 0.        ,\n",
              "        0.        , 0.        , 0.        , 0.        , 0.        ,\n",
              "        0.        , 0.        , 0.        ],\n",
              "       [0.        , 0.        , 0.        , 0.        , 0.        ,\n",
              "        0.        , 0.        , 0.        , 0.        , 0.        ,\n",
              "        0.        , 0.        , 0.        , 0.        , 0.        ,\n",
              "        0.        , 0.        , 0.        , 0.        , 0.        ,\n",
              "        0.        , 0.        , 0.        , 0.        , 0.        ,\n",
              "        0.        , 0.        , 0.        ],\n",
              "       [0.        , 0.        , 0.        , 0.        , 0.        ,\n",
              "        0.        , 0.        , 0.        , 0.        , 0.        ,\n",
              "        0.        , 0.        , 0.04313725, 0.58823529, 0.99215686,\n",
              "        0.79215686, 0.12156863, 0.        , 0.        , 0.        ,\n",
              "        0.        , 0.        , 0.        , 0.        , 0.        ,\n",
              "        0.        , 0.        , 0.        ],\n",
              "       [0.        , 0.        , 0.        , 0.        , 0.        ,\n",
              "        0.        , 0.        , 0.        , 0.        , 0.        ,\n",
              "        0.        , 0.        , 0.14509804, 0.98431373, 0.98431373,\n",
              "        0.99215686, 0.41960784, 0.        , 0.        , 0.        ,\n",
              "        0.        , 0.        , 0.        , 0.        , 0.        ,\n",
              "        0.        , 0.        , 0.        ],\n",
              "       [0.        , 0.        , 0.        , 0.        , 0.        ,\n",
              "        0.        , 0.        , 0.        , 0.        , 0.        ,\n",
              "        0.        , 0.08235294, 0.77254902, 0.98431373, 0.98431373,\n",
              "        0.99215686, 0.41960784, 0.        , 0.        , 0.        ,\n",
              "        0.        , 0.        , 0.        , 0.        , 0.        ,\n",
              "        0.        , 0.        , 0.        ],\n",
              "       [0.        , 0.        , 0.        , 0.        , 0.        ,\n",
              "        0.        , 0.        , 0.        , 0.        , 0.        ,\n",
              "        0.43137255, 0.74509804, 0.98431373, 0.98431373, 0.98431373,\n",
              "        0.99215686, 0.6627451 , 0.42745098, 0.24313725, 0.        ,\n",
              "        0.        , 0.        , 0.        , 0.        , 0.        ,\n",
              "        0.        , 0.        , 0.        ],\n",
              "       [0.        , 0.        , 0.        , 0.        , 0.        ,\n",
              "        0.        , 0.        , 0.        , 0.        , 0.        ,\n",
              "        0.99215686, 0.98431373, 0.98431373, 0.98431373, 0.98431373,\n",
              "        0.99215686, 0.98431373, 0.98431373, 0.8627451 , 0.2       ,\n",
              "        0.        , 0.        , 0.        , 0.        , 0.        ,\n",
              "        0.        , 0.        , 0.        ],\n",
              "       [0.        , 0.        , 0.        , 0.        , 0.        ,\n",
              "        0.        , 0.        , 0.        , 0.        , 0.71372549,\n",
              "        1.        , 0.99215686, 0.99215686, 0.99215686, 0.99215686,\n",
              "        0.91764706, 0.87058824, 0.99215686, 0.99215686, 0.99215686,\n",
              "        0.        , 0.        , 0.        , 0.        , 0.        ,\n",
              "        0.        , 0.        , 0.        ],\n",
              "       [0.        , 0.        , 0.        , 0.        , 0.        ,\n",
              "        0.        , 0.        , 0.        , 0.24705882, 0.86666667,\n",
              "        0.99215686, 0.98431373, 0.98431373, 0.98431373, 0.57647059,\n",
              "        0.30196078, 0.24313725, 0.50196078, 0.98431373, 0.98431373,\n",
              "        0.41176471, 0.        , 0.        , 0.        , 0.        ,\n",
              "        0.        , 0.        , 0.        ],\n",
              "       [0.        , 0.        , 0.        , 0.        , 0.        ,\n",
              "        0.        , 0.        , 0.1254902 , 0.90588235, 0.98431373,\n",
              "        0.99215686, 0.98431373, 0.8627451 , 0.5372549 , 0.03921569,\n",
              "        0.        , 0.        , 0.12156863, 0.90196078, 0.98431373,\n",
              "        0.95294118, 0.44313725, 0.01960784, 0.        , 0.        ,\n",
              "        0.        , 0.        , 0.        ],\n",
              "       [0.        , 0.        , 0.        , 0.        , 0.        ,\n",
              "        0.        , 0.        , 0.14509804, 0.98431373, 0.98431373,\n",
              "        0.99215686, 0.7372549 , 0.07843137, 0.        , 0.        ,\n",
              "        0.        , 0.        , 0.        , 0.42745098, 0.98431373,\n",
              "        0.99215686, 0.98431373, 0.1372549 , 0.        , 0.        ,\n",
              "        0.        , 0.        , 0.        ],\n",
              "       [0.        , 0.        , 0.        , 0.        , 0.        ,\n",
              "        0.        , 0.        , 0.14509804, 0.98431373, 0.98431373,\n",
              "        0.78823529, 0.11764706, 0.        , 0.        , 0.        ,\n",
              "        0.        , 0.        , 0.        , 0.12156863, 0.78431373,\n",
              "        0.99215686, 0.98431373, 0.1372549 , 0.        , 0.        ,\n",
              "        0.        , 0.        , 0.        ],\n",
              "       [0.        , 0.        , 0.        , 0.        , 0.        ,\n",
              "        0.        , 0.        , 0.14509804, 0.99215686, 0.99215686,\n",
              "        0.        , 0.        , 0.        , 0.        , 0.        ,\n",
              "        0.        , 0.        , 0.        , 0.1254902 , 0.79215686,\n",
              "        1.        , 0.99215686, 0.64313725, 0.        , 0.        ,\n",
              "        0.        , 0.        , 0.        ],\n",
              "       [0.        , 0.        , 0.        , 0.        , 0.        ,\n",
              "        0.        , 0.        , 0.54901961, 0.98431373, 0.98431373,\n",
              "        0.        , 0.        , 0.        , 0.        , 0.        ,\n",
              "        0.        , 0.        , 0.        , 0.42745098, 0.98431373,\n",
              "        0.99215686, 0.98431373, 0.1372549 , 0.        , 0.        ,\n",
              "        0.        , 0.        , 0.        ],\n",
              "       [0.        , 0.        , 0.        , 0.        , 0.        ,\n",
              "        0.        , 0.        , 0.85098039, 0.98431373, 0.98431373,\n",
              "        0.        , 0.        , 0.        , 0.        , 0.        ,\n",
              "        0.        , 0.08235294, 0.24705882, 0.90588235, 0.98431373,\n",
              "        0.99215686, 0.90196078, 0.11764706, 0.        , 0.        ,\n",
              "        0.        , 0.        , 0.        ],\n",
              "       [0.        , 0.        , 0.        , 0.        , 0.        ,\n",
              "        0.        , 0.        , 0.85098039, 0.98431373, 0.98431373,\n",
              "        0.        , 0.        , 0.        , 0.        , 0.        ,\n",
              "        0.        , 0.56470588, 0.98431373, 0.98431373, 0.98431373,\n",
              "        0.86666667, 0.23921569, 0.        , 0.        , 0.        ,\n",
              "        0.        , 0.        , 0.        ],\n",
              "       [0.        , 0.        , 0.        , 0.        , 0.        ,\n",
              "        0.        , 0.        , 0.85098039, 0.98431373, 0.98431373,\n",
              "        0.        , 0.        , 0.        , 0.        , 0.        ,\n",
              "        0.71372549, 0.86666667, 0.98431373, 0.98431373, 0.98431373,\n",
              "        0.70588235, 0.        , 0.        , 0.        , 0.        ,\n",
              "        0.        , 0.        , 0.        ],\n",
              "       [0.        , 0.        , 0.        , 0.        , 0.        ,\n",
              "        0.        , 0.        , 0.85490196, 0.99215686, 0.99215686,\n",
              "        0.28627451, 0.28627451, 0.89411765, 0.99215686, 0.99215686,\n",
              "        1.        , 0.99215686, 0.99215686, 0.99215686, 0.99215686,\n",
              "        0.        , 0.        , 0.        , 0.        , 0.        ,\n",
              "        0.        , 0.        , 0.        ],\n",
              "       [0.        , 0.        , 0.        , 0.        , 0.        ,\n",
              "        0.        , 0.        , 0.44313725, 0.98431373, 0.98431373,\n",
              "        0.99215686, 0.98431373, 0.98431373, 0.98431373, 0.98431373,\n",
              "        0.99215686, 0.98431373, 0.98431373, 0.98431373, 0.57647059,\n",
              "        0.        , 0.        , 0.        , 0.        , 0.        ,\n",
              "        0.        , 0.        , 0.        ],\n",
              "       [0.        , 0.        , 0.        , 0.        , 0.        ,\n",
              "        0.        , 0.        , 0.12156863, 0.90196078, 0.98431373,\n",
              "        0.99215686, 0.98431373, 0.98431373, 0.98431373, 0.98431373,\n",
              "        0.99215686, 0.90196078, 0.74117647, 0.1372549 , 0.03921569,\n",
              "        0.        , 0.        , 0.        , 0.        , 0.        ,\n",
              "        0.        , 0.        , 0.        ],\n",
              "       [0.        , 0.        , 0.        , 0.        , 0.        ,\n",
              "        0.        , 0.        , 0.        , 0.24313725, 0.55686275,\n",
              "        0.99215686, 0.98431373, 0.98431373, 0.98431373, 0.98431373,\n",
              "        0.99215686, 0.41960784, 0.        , 0.        , 0.        ,\n",
              "        0.        , 0.        , 0.        , 0.        , 0.        ,\n",
              "        0.        , 0.        , 0.        ],\n",
              "       [0.        , 0.        , 0.        , 0.        , 0.        ,\n",
              "        0.        , 0.        , 0.        , 0.        , 0.        ,\n",
              "        0.28235294, 0.68235294, 0.98431373, 0.67843137, 0.27843137,\n",
              "        0.28235294, 0.11764706, 0.        , 0.        , 0.        ,\n",
              "        0.        , 0.        , 0.        , 0.        , 0.        ,\n",
              "        0.        , 0.        , 0.        ],\n",
              "       [0.        , 0.        , 0.        , 0.        , 0.        ,\n",
              "        0.        , 0.        , 0.        , 0.        , 0.        ,\n",
              "        0.        , 0.        , 0.        , 0.        , 0.        ,\n",
              "        0.        , 0.        , 0.        , 0.        , 0.        ,\n",
              "        0.        , 0.        , 0.        , 0.        , 0.        ,\n",
              "        0.        , 0.        , 0.        ],\n",
              "       [0.        , 0.        , 0.        , 0.        , 0.        ,\n",
              "        0.        , 0.        , 0.        , 0.        , 0.        ,\n",
              "        0.        , 0.        , 0.        , 0.        , 0.        ,\n",
              "        0.        , 0.        , 0.        , 0.        , 0.        ,\n",
              "        0.        , 0.        , 0.        , 0.        , 0.        ,\n",
              "        0.        , 0.        , 0.        ],\n",
              "       [0.        , 0.        , 0.        , 0.        , 0.        ,\n",
              "        0.        , 0.        , 0.        , 0.        , 0.        ,\n",
              "        0.        , 0.        , 0.        , 0.        , 0.        ,\n",
              "        0.        , 0.        , 0.        , 0.        , 0.        ,\n",
              "        0.        , 0.        , 0.        , 0.        , 0.        ,\n",
              "        0.        , 0.        , 0.        ],\n",
              "       [0.        , 0.        , 0.        , 0.        , 0.        ,\n",
              "        0.        , 0.        , 0.        , 0.        , 0.        ,\n",
              "        0.        , 0.        , 0.        , 0.        , 0.        ,\n",
              "        0.        , 0.        , 0.        , 0.        , 0.        ,\n",
              "        0.        , 0.        , 0.        , 0.        , 0.        ,\n",
              "        0.        , 0.        , 0.        ]])"
            ]
          },
          "metadata": {
            "tags": []
          },
          "execution_count": 32
        }
      ]
    },
    {
      "cell_type": "code",
      "metadata": {
        "id": "6xQdQga2t0mJ",
        "colab_type": "code",
        "colab": {}
      },
      "source": [
        "sample_scaled = np.array(x_train_scaled.iloc[2]).reshape(28,28)"
      ],
      "execution_count": 33,
      "outputs": []
    },
    {
      "cell_type": "code",
      "metadata": {
        "id": "pg-ESbK1t0mO",
        "colab_type": "code",
        "colab": {
          "base_uri": "https://localhost:8080/",
          "height": 248
        },
        "outputId": "f0840bc5-dcff-46ab-8403-f417479250fc"
      },
      "source": [
        "plt.imshow(sample_scaled, cmap = matplotlib.cm.binary)\n",
        "plt.axis('off')\n",
        "plt.show()"
      ],
      "execution_count": 34,
      "outputs": [
        {
          "output_type": "display_data",
          "data": {
            "image/png": "[encoded data removed]",
            "text/plain": [
              "<Figure size 432x288 with 1 Axes>"
            ]
          },
          "metadata": {
            "tags": [],
            "needs_background": "light"
          }
        }
      ]
    },
    {
      "cell_type": "code",
      "metadata": {
        "_uuid": "1f78f213ad599f23812d19a8c516c006e01454ee",
        "colab_type": "code",
        "id": "ECb725YH70dl",
        "colab": {}
      },
      "source": [
        "x_train = x_train_scaled.copy()\n",
        "y_train = y_train_explore.copy()\n",
        "x_test = x_test_scaled.copy()\n",
        "y_test = y_test_explore.copy()\n",
        "\n",
        "del x_train_explore, x_train_scaled, y_train_explore, x_test_explore, x_test_scaled, y_test_explore"
      ],
      "execution_count": 35,
      "outputs": []
    },
    {
      "cell_type": "markdown",
      "metadata": {
        "_uuid": "e15ea52516a830e8d97210b729e7cb49b9364948",
        "colab_type": "text",
        "id": "9zv9TyKx70do"
      },
      "source": [
        "# 4. Build Model\n",
        "\n",
        "We are going to build the base models first, then we are going to try to  `fine-tune` them."
      ]
    },
    {
      "cell_type": "markdown",
      "metadata": {
        "id": "GQZyhAhft0mZ",
        "colab_type": "text"
      },
      "source": [
        "## Logistic Regression"
      ]
    },
    {
      "cell_type": "code",
      "metadata": {
        "id": "AfTSdqCAt0ma",
        "colab_type": "code",
        "colab": {}
      },
      "source": [
        "from sklearn.linear_model import LogisticRegression "
      ],
      "execution_count": 36,
      "outputs": []
    },
    {
      "cell_type": "code",
      "metadata": {
        "id": "sT2d1milt0mg",
        "colab_type": "code",
        "colab": {
          "base_uri": "https://localhost:8080/",
          "height": 173
        },
        "outputId": "3ba89692-1bde-49ed-983a-9e63fe83b0e6"
      },
      "source": [
        "log_reg = LogisticRegression()\n",
        "log_reg = log_reg.fit(x_train, y_train)"
      ],
      "execution_count": 37,
      "outputs": [
        {
          "output_type": "stream",
          "text": [
            "/usr/local/lib/python3.6/dist-packages/sklearn/linear_model/_logistic.py:940: ConvergenceWarning: lbfgs failed to converge (status=1):\n",
            "STOP: TOTAL NO. of ITERATIONS REACHED LIMIT.\n",
            "\n",
            "Increase the number of iterations (max_iter) or scale the data as shown in:\n",
            "    https://scikit-learn.org/stable/modules/preprocessing.html\n",
            "Please also refer to the documentation for alternative solver options:\n",
            "    https://scikit-learn.org/stable/modules/linear_model.html#logistic-regression\n",
            "  extra_warning_msg=_LOGISTIC_SOLVER_CONVERGENCE_MSG)\n"
          ],
          "name": "stderr"
        }
      ]
    },
    {
      "cell_type": "code",
      "metadata": {
        "id": "gupH8wo0t0ml",
        "colab_type": "code",
        "colab": {}
      },
      "source": [
        "log_pred = log_reg.predict(x_test)"
      ],
      "execution_count": 38,
      "outputs": []
    },
    {
      "cell_type": "code",
      "metadata": {
        "id": "-LDQqfTzt0mq",
        "colab_type": "code",
        "colab": {
          "base_uri": "https://localhost:8080/",
          "height": 34
        },
        "outputId": "88247097-c094-4462-c73f-a9be3815ad38"
      },
      "source": [
        "log_pred"
      ],
      "execution_count": 39,
      "outputs": [
        {
          "output_type": "execute_result",
          "data": {
            "text/plain": [
              "array([2, 1, 0, ..., 4, 5, 6])"
            ]
          },
          "metadata": {
            "tags": []
          },
          "execution_count": 39
        }
      ]
    },
    {
      "cell_type": "code",
      "metadata": {
        "id": "MaCz3oaXt0mv",
        "colab_type": "code",
        "colab": {}
      },
      "source": [
        "from sklearn.metrics import confusion_matrix, accuracy_score"
      ],
      "execution_count": 40,
      "outputs": []
    },
    {
      "cell_type": "code",
      "metadata": {
        "id": "zaUHhIH7t0mz",
        "colab_type": "code",
        "colab": {}
      },
      "source": [
        "log_cf = confusion_matrix(y_test, log_pred)"
      ],
      "execution_count": 41,
      "outputs": []
    },
    {
      "cell_type": "code",
      "metadata": {
        "id": "MyP_VyJJt0m7",
        "colab_type": "code",
        "colab": {
          "base_uri": "https://localhost:8080/",
          "height": 187
        },
        "outputId": "d2ae9024-c91f-4231-ad46-0d4d571ae0a8"
      },
      "source": [
        "log_cf\n"
      ],
      "execution_count": 42,
      "outputs": [
        {
          "output_type": "execute_result",
          "data": {
            "text/plain": [
              "array([[ 959,    0,    0,    3,    1,    7,    5,    4,    1,    0],\n",
              "       [   0, 1111,    4,    2,    0,    2,    3,    2,   11,    0],\n",
              "       [   5,    7,  929,   16,    8,    3,   15,    7,   38,    4],\n",
              "       [   4,    1,   18,  916,    1,   23,    4,   11,   23,    9],\n",
              "       [   1,    1,    7,    3,  916,    0,   10,    5,   10,   29],\n",
              "       [  11,    2,    2,   32,    8,  782,   15,    5,   30,    5],\n",
              "       [   9,    3,    7,    3,    7,   14,  912,    2,    1,    0],\n",
              "       [   1,    8,   23,    6,    7,    1,    0,  950,    3,   28],\n",
              "       [   9,   10,    8,   24,    8,   25,   11,    8,  859,   12],\n",
              "       [   9,    8,    1,    9,   23,    7,    0,   19,    6,  927]])"
            ]
          },
          "metadata": {
            "tags": []
          },
          "execution_count": 42
        }
      ]
    },
    {
      "cell_type": "code",
      "metadata": {
        "id": "UViyIQj6t0nB",
        "colab_type": "code",
        "colab": {
          "base_uri": "https://localhost:8080/",
          "height": 34
        },
        "outputId": "f9680bbb-8b7b-4308-8735-34ddeebd16b3"
      },
      "source": [
        "accuracy_score(y_test, log_pred)"
      ],
      "execution_count": 43,
      "outputs": [
        {
          "output_type": "execute_result",
          "data": {
            "text/plain": [
              "0.9261926192619262"
            ]
          },
          "metadata": {
            "tags": []
          },
          "execution_count": 43
        }
      ]
    },
    {
      "cell_type": "markdown",
      "metadata": {
        "id": "q3zksMG6t0nK",
        "colab_type": "text"
      },
      "source": [
        "### cross validation"
      ]
    },
    {
      "cell_type": "code",
      "metadata": {
        "_uuid": "138fea09816aaff6b5c8cbfb84b5e5b55929688f",
        "colab_type": "code",
        "id": "6jBpNMXb70fC",
        "colab": {}
      },
      "source": [
        "from sklearn.model_selection import cross_val_score\n",
        "\n",
        "def display_scores(scores):\n",
        "    print(\"Scores:\", scores)\n",
        "    print(\"\")\n",
        "    print(\"Mean:\", scores.mean())\n",
        "    print(\"Standard deviation:\", scores.std())"
      ],
      "execution_count": 44,
      "outputs": []
    },
    {
      "cell_type": "markdown",
      "metadata": {
        "_uuid": "93c82272cfce01494653c4ea63699425cb7ad058",
        "colab_type": "text",
        "id": "lekbr8LO70fF"
      },
      "source": [
        "### logistic regression with cross validation"
      ]
    },
    {
      "cell_type": "code",
      "metadata": {
        "_uuid": "4798252676b583e7f228fe5016da355447982502",
        "colab_type": "code",
        "id": "ROsoaTLF70fG",
        "colab": {
          "base_uri": "https://localhost:8080/",
          "height": 1000
        },
        "outputId": "cfc85d1c-4c97-4851-ea55-077bcc26dda7"
      },
      "source": [
        "log_reg_scores = cross_val_score(log_reg,\n",
        "                                 x_train,\n",
        "                                 y_train,\n",
        "                                 scoring=\"neg_mean_squared_error\",\n",
        "                                 cv=10,\n",
        "                                 verbose=10)\n",
        "log_reg_rmse_scores = np.sqrt(-log_reg_scores)\n",
        "\n",
        "print(\"Logistic Regression Scores\\n\")\n",
        "display_scores(log_reg_rmse_scores)\n"
      ],
      "execution_count": 45,
      "outputs": [
        {
          "output_type": "stream",
          "text": [
            "[Parallel(n_jobs=1)]: Using backend SequentialBackend with 1 concurrent workers.\n"
          ],
          "name": "stderr"
        },
        {
          "output_type": "stream",
          "text": [
            "[CV]  ................................................................\n"
          ],
          "name": "stdout"
        },
        {
          "output_type": "stream",
          "text": [
            "/usr/local/lib/python3.6/dist-packages/sklearn/linear_model/_logistic.py:940: ConvergenceWarning: lbfgs failed to converge (status=1):\n",
            "STOP: TOTAL NO. of ITERATIONS REACHED LIMIT.\n",
            "\n",
            "Increase the number of iterations (max_iter) or scale the data as shown in:\n",
            "    https://scikit-learn.org/stable/modules/preprocessing.html\n",
            "Please also refer to the documentation for alternative solver options:\n",
            "    https://scikit-learn.org/stable/modules/linear_model.html#logistic-regression\n",
            "  extra_warning_msg=_LOGISTIC_SOLVER_CONVERGENCE_MSG)\n",
            "[Parallel(n_jobs=1)]: Done   1 out of   1 | elapsed:   24.6s remaining:    0.0s\n"
          ],
          "name": "stderr"
        },
        {
          "output_type": "stream",
          "text": [
            "[CV] ................................... , score=-1.167, total=  24.6s\n",
            "[CV]  ................................................................\n"
          ],
          "name": "stdout"
        },
        {
          "output_type": "stream",
          "text": [
            "/usr/local/lib/python3.6/dist-packages/sklearn/linear_model/_logistic.py:940: ConvergenceWarning: lbfgs failed to converge (status=1):\n",
            "STOP: TOTAL NO. of ITERATIONS REACHED LIMIT.\n",
            "\n",
            "Increase the number of iterations (max_iter) or scale the data as shown in:\n",
            "    https://scikit-learn.org/stable/modules/preprocessing.html\n",
            "Please also refer to the documentation for alternative solver options:\n",
            "    https://scikit-learn.org/stable/modules/linear_model.html#logistic-regression\n",
            "  extra_warning_msg=_LOGISTIC_SOLVER_CONVERGENCE_MSG)\n",
            "[Parallel(n_jobs=1)]: Done   2 out of   2 | elapsed:   49.7s remaining:    0.0s\n"
          ],
          "name": "stderr"
        },
        {
          "output_type": "stream",
          "text": [
            "[CV] ................................... , score=-1.471, total=  25.0s\n",
            "[CV]  ................................................................\n"
          ],
          "name": "stdout"
        },
        {
          "output_type": "stream",
          "text": [
            "/usr/local/lib/python3.6/dist-packages/sklearn/linear_model/_logistic.py:940: ConvergenceWarning: lbfgs failed to converge (status=1):\n",
            "STOP: TOTAL NO. of ITERATIONS REACHED LIMIT.\n",
            "\n",
            "Increase the number of iterations (max_iter) or scale the data as shown in:\n",
            "    https://scikit-learn.org/stable/modules/preprocessing.html\n",
            "Please also refer to the documentation for alternative solver options:\n",
            "    https://scikit-learn.org/stable/modules/linear_model.html#logistic-regression\n",
            "  extra_warning_msg=_LOGISTIC_SOLVER_CONVERGENCE_MSG)\n",
            "[Parallel(n_jobs=1)]: Done   3 out of   3 | elapsed:  1.2min remaining:    0.0s\n"
          ],
          "name": "stderr"
        },
        {
          "output_type": "stream",
          "text": [
            "[CV] ................................... , score=-1.568, total=  25.2s\n",
            "[CV]  ................................................................\n"
          ],
          "name": "stdout"
        },
        {
          "output_type": "stream",
          "text": [
            "/usr/local/lib/python3.6/dist-packages/sklearn/linear_model/_logistic.py:940: ConvergenceWarning: lbfgs failed to converge (status=1):\n",
            "STOP: TOTAL NO. of ITERATIONS REACHED LIMIT.\n",
            "\n",
            "Increase the number of iterations (max_iter) or scale the data as shown in:\n",
            "    https://scikit-learn.org/stable/modules/preprocessing.html\n",
            "Please also refer to the documentation for alternative solver options:\n",
            "    https://scikit-learn.org/stable/modules/linear_model.html#logistic-regression\n",
            "  extra_warning_msg=_LOGISTIC_SOLVER_CONVERGENCE_MSG)\n",
            "[Parallel(n_jobs=1)]: Done   4 out of   4 | elapsed:  1.7min remaining:    0.0s\n"
          ],
          "name": "stderr"
        },
        {
          "output_type": "stream",
          "text": [
            "[CV] ................................... , score=-1.217, total=  24.5s\n",
            "[CV]  ................................................................\n"
          ],
          "name": "stdout"
        },
        {
          "output_type": "stream",
          "text": [
            "/usr/local/lib/python3.6/dist-packages/sklearn/linear_model/_logistic.py:940: ConvergenceWarning: lbfgs failed to converge (status=1):\n",
            "STOP: TOTAL NO. of ITERATIONS REACHED LIMIT.\n",
            "\n",
            "Increase the number of iterations (max_iter) or scale the data as shown in:\n",
            "    https://scikit-learn.org/stable/modules/preprocessing.html\n",
            "Please also refer to the documentation for alternative solver options:\n",
            "    https://scikit-learn.org/stable/modules/linear_model.html#logistic-regression\n",
            "  extra_warning_msg=_LOGISTIC_SOLVER_CONVERGENCE_MSG)\n",
            "[Parallel(n_jobs=1)]: Done   5 out of   5 | elapsed:  2.1min remaining:    0.0s\n"
          ],
          "name": "stderr"
        },
        {
          "output_type": "stream",
          "text": [
            "[CV] ................................... , score=-1.310, total=  25.1s\n",
            "[CV]  ................................................................\n"
          ],
          "name": "stdout"
        },
        {
          "output_type": "stream",
          "text": [
            "/usr/local/lib/python3.6/dist-packages/sklearn/linear_model/_logistic.py:940: ConvergenceWarning: lbfgs failed to converge (status=1):\n",
            "STOP: TOTAL NO. of ITERATIONS REACHED LIMIT.\n",
            "\n",
            "Increase the number of iterations (max_iter) or scale the data as shown in:\n",
            "    https://scikit-learn.org/stable/modules/preprocessing.html\n",
            "Please also refer to the documentation for alternative solver options:\n",
            "    https://scikit-learn.org/stable/modules/linear_model.html#logistic-regression\n",
            "  extra_warning_msg=_LOGISTIC_SOLVER_CONVERGENCE_MSG)\n",
            "[Parallel(n_jobs=1)]: Done   6 out of   6 | elapsed:  2.5min remaining:    0.0s\n"
          ],
          "name": "stderr"
        },
        {
          "output_type": "stream",
          "text": [
            "[CV] ................................... , score=-1.353, total=  24.9s\n",
            "[CV]  ................................................................\n"
          ],
          "name": "stdout"
        },
        {
          "output_type": "stream",
          "text": [
            "/usr/local/lib/python3.6/dist-packages/sklearn/linear_model/_logistic.py:940: ConvergenceWarning: lbfgs failed to converge (status=1):\n",
            "STOP: TOTAL NO. of ITERATIONS REACHED LIMIT.\n",
            "\n",
            "Increase the number of iterations (max_iter) or scale the data as shown in:\n",
            "    https://scikit-learn.org/stable/modules/preprocessing.html\n",
            "Please also refer to the documentation for alternative solver options:\n",
            "    https://scikit-learn.org/stable/modules/linear_model.html#logistic-regression\n",
            "  extra_warning_msg=_LOGISTIC_SOLVER_CONVERGENCE_MSG)\n",
            "[Parallel(n_jobs=1)]: Done   7 out of   7 | elapsed:  2.9min remaining:    0.0s\n"
          ],
          "name": "stderr"
        },
        {
          "output_type": "stream",
          "text": [
            "[CV] ................................... , score=-1.366, total=  25.0s\n",
            "[CV]  ................................................................\n"
          ],
          "name": "stdout"
        },
        {
          "output_type": "stream",
          "text": [
            "/usr/local/lib/python3.6/dist-packages/sklearn/linear_model/_logistic.py:940: ConvergenceWarning: lbfgs failed to converge (status=1):\n",
            "STOP: TOTAL NO. of ITERATIONS REACHED LIMIT.\n",
            "\n",
            "Increase the number of iterations (max_iter) or scale the data as shown in:\n",
            "    https://scikit-learn.org/stable/modules/preprocessing.html\n",
            "Please also refer to the documentation for alternative solver options:\n",
            "    https://scikit-learn.org/stable/modules/linear_model.html#logistic-regression\n",
            "  extra_warning_msg=_LOGISTIC_SOLVER_CONVERGENCE_MSG)\n",
            "[Parallel(n_jobs=1)]: Done   8 out of   8 | elapsed:  3.3min remaining:    0.0s\n"
          ],
          "name": "stderr"
        },
        {
          "output_type": "stream",
          "text": [
            "[CV] ................................... , score=-1.514, total=  25.3s\n",
            "[CV]  ................................................................\n"
          ],
          "name": "stdout"
        },
        {
          "output_type": "stream",
          "text": [
            "/usr/local/lib/python3.6/dist-packages/sklearn/linear_model/_logistic.py:940: ConvergenceWarning: lbfgs failed to converge (status=1):\n",
            "STOP: TOTAL NO. of ITERATIONS REACHED LIMIT.\n",
            "\n",
            "Increase the number of iterations (max_iter) or scale the data as shown in:\n",
            "    https://scikit-learn.org/stable/modules/preprocessing.html\n",
            "Please also refer to the documentation for alternative solver options:\n",
            "    https://scikit-learn.org/stable/modules/linear_model.html#logistic-regression\n",
            "  extra_warning_msg=_LOGISTIC_SOLVER_CONVERGENCE_MSG)\n",
            "[Parallel(n_jobs=1)]: Done   9 out of   9 | elapsed:  3.8min remaining:    0.0s\n"
          ],
          "name": "stderr"
        },
        {
          "output_type": "stream",
          "text": [
            "[CV] ................................... , score=-1.333, total=  25.2s\n",
            "[CV]  ................................................................\n",
            "[CV] ................................... , score=-1.027, total=  24.9s\n",
            "Logistic Regression Scores\n",
            "\n",
            "Scores: [1.0802006  1.21271046 1.25213152 1.10310169 1.14433387 1.16332856\n",
            " 1.16890262 1.2305148  1.15433964 1.01341231]\n",
            "\n",
            "Mean: 1.152297605044017\n",
            "Standard deviation: 0.0686343899574791\n"
          ],
          "name": "stdout"
        },
        {
          "output_type": "stream",
          "text": [
            "/usr/local/lib/python3.6/dist-packages/sklearn/linear_model/_logistic.py:940: ConvergenceWarning: lbfgs failed to converge (status=1):\n",
            "STOP: TOTAL NO. of ITERATIONS REACHED LIMIT.\n",
            "\n",
            "Increase the number of iterations (max_iter) or scale the data as shown in:\n",
            "    https://scikit-learn.org/stable/modules/preprocessing.html\n",
            "Please also refer to the documentation for alternative solver options:\n",
            "    https://scikit-learn.org/stable/modules/linear_model.html#logistic-regression\n",
            "  extra_warning_msg=_LOGISTIC_SOLVER_CONVERGENCE_MSG)\n",
            "[Parallel(n_jobs=1)]: Done  10 out of  10 | elapsed:  4.2min finished\n"
          ],
          "name": "stderr"
        }
      ]
    },
    {
      "cell_type": "code",
      "metadata": {
        "id": "xNRJIjC8t0nc",
        "colab_type": "code",
        "colab": {}
      },
      "source": [
        ""
      ],
      "execution_count": 45,
      "outputs": []
    },
    {
      "cell_type": "code",
      "metadata": {
        "id": "IYfbLao3t0nh",
        "colab_type": "code",
        "colab": {}
      },
      "source": [
        ""
      ],
      "execution_count": 45,
      "outputs": []
    },
    {
      "cell_type": "code",
      "metadata": {
        "id": "kR0aajvCt0nq",
        "colab_type": "code",
        "colab": {}
      },
      "source": [
        ""
      ],
      "execution_count": 45,
      "outputs": []
    },
    {
      "cell_type": "code",
      "metadata": {
        "id": "EZQyjV0At0nu",
        "colab_type": "code",
        "colab": {}
      },
      "source": [
        ""
      ],
      "execution_count": null,
      "outputs": []
    },
    {
      "cell_type": "code",
      "metadata": {
        "id": "wWKanq1it0n0",
        "colab_type": "code",
        "colab": {}
      },
      "source": [
        ""
      ],
      "execution_count": null,
      "outputs": []
    },
    {
      "cell_type": "markdown",
      "metadata": {
        "_uuid": "6d3a685ecc0bb34fcc98c182bbda32820d4738e1",
        "colab_type": "text",
        "id": "zwpB_UuP70dp"
      },
      "source": [
        "##  SVM\n",
        "\n",
        "We are going to create the SVM model.  \n",
        "\n",
        "SVM's SVC uses `One-versus-Rest/All (OvA/OvR)` by default, meaning that system trains 10 binary classifiers, one for each digit (a 0-detector, a 1-detector, a 2-detector, and so on). Then when you want to classify an image, you get the decision score from each classifier for that image and you select the class whose classifier outputs the highest score.\n",
        "\n",
        "So to building 10 different classifiers going to take some time."
      ]
    },
    {
      "cell_type": "code",
      "metadata": {
        "_uuid": "dc3b27a2b34760384ccba0376197a4f0eac47de5",
        "colab_type": "code",
        "id": "7zXFtwA270dq",
        "colab": {}
      },
      "source": [
        "# Support Vector Classification\n",
        "from sklearn.svm import SVC"
      ],
      "execution_count": 46,
      "outputs": []
    },
    {
      "cell_type": "code",
      "metadata": {
        "_uuid": "0b79899034669ac65aa357048bb784b39f438fef",
        "colab_type": "code",
        "id": "NpbfBuIl70dt",
        "colab": {
          "base_uri": "https://localhost:8080/",
          "height": 85
        },
        "outputId": "46f29bce-5afc-435b-e353-a43e92ac61d9"
      },
      "source": [
        "svc_clf = SVC(gamma='auto', random_state=42, verbose=True)\n",
        "svc_clf.fit(x_train, y_train)"
      ],
      "execution_count": 47,
      "outputs": [
        {
          "output_type": "stream",
          "text": [
            "[LibSVM]"
          ],
          "name": "stdout"
        },
        {
          "output_type": "execute_result",
          "data": {
            "text/plain": [
              "SVC(C=1.0, break_ties=False, cache_size=200, class_weight=None, coef0=0.0,\n",
              "    decision_function_shape='ovr', degree=3, gamma='auto', kernel='rbf',\n",
              "    max_iter=-1, probability=False, random_state=42, shrinking=True, tol=0.001,\n",
              "    verbose=True)"
            ]
          },
          "metadata": {
            "tags": []
          },
          "execution_count": 47
        }
      ]
    },
    {
      "cell_type": "markdown",
      "metadata": {
        "id": "RjHBbUzat0oK",
        "colab_type": "text"
      },
      "source": [
        "### Evaluating SVM"
      ]
    },
    {
      "cell_type": "code",
      "metadata": {
        "_uuid": "d6b004c43c46d90febe54da402715f2c2e76825f",
        "colab_type": "code",
        "id": "63B5OQOt70eJ",
        "colab": {}
      },
      "source": [
        "from sklearn.metrics import accuracy_score, precision_recall_fscore_support, classification_report"
      ],
      "execution_count": 48,
      "outputs": []
    },
    {
      "cell_type": "code",
      "metadata": {
        "_uuid": "4f7bfac165feda01edb09538308586d02ff5b362",
        "colab_type": "code",
        "id": "6rbUGZuU70eO",
        "colab": {
          "base_uri": "https://localhost:8080/",
          "height": 34
        },
        "outputId": "ba48105a-6207-495f-e838-d6c018c46830"
      },
      "source": [
        "svc_prediction = svc_clf.predict(x_test)\n",
        "print(\"SVC Accuracy:\", accuracy_score(y_true=np.array(y_test) ,y_pred=svc_prediction))"
      ],
      "execution_count": 50,
      "outputs": [
        {
          "output_type": "stream",
          "text": [
            "SVC Accuracy: 0.9443944394439444\n"
          ],
          "name": "stdout"
        }
      ]
    },
    {
      "cell_type": "code",
      "metadata": {
        "id": "nnhTGif1t0od",
        "colab_type": "code",
        "colab": {
          "base_uri": "https://localhost:8080/",
          "height": 34
        },
        "outputId": "80ea548b-88aa-45eb-de0a-1f41ef61c2af"
      },
      "source": [
        "type(y_test[:20])"
      ],
      "execution_count": 51,
      "outputs": [
        {
          "output_type": "execute_result",
          "data": {
            "text/plain": [
              "pandas.core.series.Series"
            ]
          },
          "metadata": {
            "tags": []
          },
          "execution_count": 51
        }
      ]
    },
    {
      "cell_type": "code",
      "metadata": {
        "id": "-Xzaeb23t0oi",
        "colab_type": "code",
        "colab": {}
      },
      "source": [
        ""
      ],
      "execution_count": 51,
      "outputs": []
    },
    {
      "cell_type": "code",
      "metadata": {
        "id": "CgbsGicot0op",
        "colab_type": "code",
        "colab": {
          "base_uri": "https://localhost:8080/",
          "height": 34
        },
        "outputId": "2a330bb7-23cb-471b-ddcf-2bdcbaf0b8dd"
      },
      "source": [
        "svc_prediction"
      ],
      "execution_count": 52,
      "outputs": [
        {
          "output_type": "execute_result",
          "data": {
            "text/plain": [
              "array([2, 1, 0, ..., 4, 5, 6])"
            ]
          },
          "metadata": {
            "tags": []
          },
          "execution_count": 52
        }
      ]
    },
    {
      "cell_type": "code",
      "metadata": {
        "id": "G4qfr-Bmt0ot",
        "colab_type": "code",
        "colab": {
          "base_uri": "https://localhost:8080/",
          "height": 34
        },
        "outputId": "165c1d72-b803-481b-ed4a-a5f639b849aa"
      },
      "source": [
        "type(svc_prediction)"
      ],
      "execution_count": 53,
      "outputs": [
        {
          "output_type": "execute_result",
          "data": {
            "text/plain": [
              "numpy.ndarray"
            ]
          },
          "metadata": {
            "tags": []
          },
          "execution_count": 53
        }
      ]
    },
    {
      "cell_type": "code",
      "metadata": {
        "id": "3GELHNKnt0oy",
        "colab_type": "code",
        "colab": {
          "base_uri": "https://localhost:8080/",
          "height": 34
        },
        "outputId": "483a0513-6e15-46b4-f7c2-912416a475c7"
      },
      "source": [
        "svc_prediction[:20]"
      ],
      "execution_count": 54,
      "outputs": [
        {
          "output_type": "execute_result",
          "data": {
            "text/plain": [
              "array([2, 1, 0, 4, 1, 4, 9, 6, 9, 0, 6, 9, 0, 1, 5, 9, 7, 3, 4, 9])"
            ]
          },
          "metadata": {
            "tags": []
          },
          "execution_count": 54
        }
      ]
    },
    {
      "cell_type": "code",
      "metadata": {
        "id": "volVvBPqt0o1",
        "colab_type": "code",
        "colab": {
          "base_uri": "https://localhost:8080/",
          "height": 136
        },
        "outputId": "98897ab2-2303-4513-fe72-f0664f67a8ae"
      },
      "source": [
        "precision_recall_fscore_support(y_test, svc_prediction)"
      ],
      "execution_count": 55,
      "outputs": [
        {
          "output_type": "execute_result",
          "data": {
            "text/plain": [
              "(array([0.9593254 , 0.96804836, 0.93756098, 0.92690058, 0.93055556,\n",
              "        0.92980437, 0.94683027, 0.95595596, 0.94092827, 0.94285714]),\n",
              " array([0.98673469, 0.9876652 , 0.93120155, 0.94158416, 0.95519348,\n",
              "        0.9058296 , 0.96659708, 0.92989289, 0.91581109, 0.91575818]),\n",
              " array([0.97283702, 0.9777584 , 0.93437044, 0.93418468, 0.94271357,\n",
              "        0.91766042, 0.95661157, 0.94274432, 0.92819979, 0.92911011]),\n",
              " array([ 980, 1135, 1032, 1010,  982,  892,  958, 1027,  974, 1009]))"
            ]
          },
          "metadata": {
            "tags": []
          },
          "execution_count": 55
        }
      ]
    },
    {
      "cell_type": "code",
      "metadata": {
        "id": "QrQJhkrAt0o5",
        "colab_type": "code",
        "colab": {
          "base_uri": "https://localhost:8080/",
          "height": 306
        },
        "outputId": "810bf6b7-1054-4296-9dca-c4acc9a92c8f"
      },
      "source": [
        "print(classification_report(y_test, svc_prediction))"
      ],
      "execution_count": 56,
      "outputs": [
        {
          "output_type": "stream",
          "text": [
            "              precision    recall  f1-score   support\n",
            "\n",
            "           0       0.96      0.99      0.97       980\n",
            "           1       0.97      0.99      0.98      1135\n",
            "           2       0.94      0.93      0.93      1032\n",
            "           3       0.93      0.94      0.93      1010\n",
            "           4       0.93      0.96      0.94       982\n",
            "           5       0.93      0.91      0.92       892\n",
            "           6       0.95      0.97      0.96       958\n",
            "           7       0.96      0.93      0.94      1027\n",
            "           8       0.94      0.92      0.93       974\n",
            "           9       0.94      0.92      0.93      1009\n",
            "\n",
            "    accuracy                           0.94      9999\n",
            "   macro avg       0.94      0.94      0.94      9999\n",
            "weighted avg       0.94      0.94      0.94      9999\n",
            "\n"
          ],
          "name": "stdout"
        }
      ]
    },
    {
      "cell_type": "code",
      "metadata": {
        "id": "u6IxNHO0t0pB",
        "colab_type": "code",
        "colab": {}
      },
      "source": [
        "# cross validation"
      ],
      "execution_count": 58,
      "outputs": []
    },
    {
      "cell_type": "code",
      "metadata": {
        "_uuid": "138fea09816aaff6b5c8cbfb84b5e5b55929688f",
        "colab_type": "code",
        "id": "keLpdthvt0pG",
        "colab": {}
      },
      "source": [
        "from sklearn.model_selection import cross_val_score\n",
        "\n",
        "def display_scores(scores):\n",
        "    print(\"Scores:\", scores)\n",
        "    print(\"\")\n",
        "    print(\"Mean:\", scores.mean())\n",
        "    print(\"Standard deviation:\", scores.std())"
      ],
      "execution_count": null,
      "outputs": []
    },
    {
      "cell_type": "markdown",
      "metadata": {
        "_uuid": "93c82272cfce01494653c4ea63699425cb7ad058",
        "colab_type": "text",
        "id": "NBMRQOhKt0pL"
      },
      "source": [
        "### SVM with Cross validation"
      ]
    },
    {
      "cell_type": "code",
      "metadata": {
        "_uuid": "4798252676b583e7f228fe5016da355447982502",
        "colab_type": "code",
        "id": "Aqu285LKt0pL",
        "colab": {
          "base_uri": "https://localhost:8080/",
          "height": 119
        },
        "outputId": "168627e0-6661-47e3-ac39-f8333d584ab0"
      },
      "source": [
        "svm_scores = cross_val_score(svc_clf, x_train, y_train, scoring=\"neg_mean_squared_error\", cv=10, verbose=10)\n",
        "svm_rmse_scores = np.sqrt(-svm_scores)\n",
        "\n",
        "print(\"SVM Scores\\n\")\n",
        "display_scores(svm_rmse_scores)"
      ],
      "execution_count": null,
      "outputs": [
        {
          "output_type": "stream",
          "text": [
            "[Parallel(n_jobs=1)]: Using backend SequentialBackend with 1 concurrent workers.\n"
          ],
          "name": "stderr"
        },
        {
          "output_type": "stream",
          "text": [
            "[CV]  ................................................................\n",
            "[LibSVM][CV] ................................... , score=-0.908, total=13.4min\n",
            "[CV]  ................................................................\n"
          ],
          "name": "stdout"
        },
        {
          "output_type": "stream",
          "text": [
            "[Parallel(n_jobs=1)]: Done   1 out of   1 | elapsed: 13.4min remaining:    0.0s\n"
          ],
          "name": "stderr"
        },
        {
          "output_type": "stream",
          "text": [
            "[LibSVM]"
          ],
          "name": "stdout"
        }
      ]
    },
    {
      "cell_type": "code",
      "metadata": {
        "id": "4IBjnsZjt0pP",
        "colab_type": "code",
        "colab": {}
      },
      "source": [
        ""
      ],
      "execution_count": null,
      "outputs": []
    },
    {
      "cell_type": "code",
      "metadata": {
        "id": "QR904BzPt0pS",
        "colab_type": "code",
        "colab": {}
      },
      "source": [
        ""
      ],
      "execution_count": null,
      "outputs": []
    },
    {
      "cell_type": "code",
      "metadata": {
        "id": "_Ome4GLGt0pV",
        "colab_type": "code",
        "colab": {}
      },
      "source": [
        ""
      ],
      "execution_count": null,
      "outputs": []
    },
    {
      "cell_type": "code",
      "metadata": {
        "id": "cYsaD_k_t0pZ",
        "colab_type": "code",
        "colab": {}
      },
      "source": [
        ""
      ],
      "execution_count": null,
      "outputs": []
    },
    {
      "cell_type": "code",
      "metadata": {
        "id": "bAYINYpMt0pf",
        "colab_type": "code",
        "colab": {}
      },
      "source": [
        ""
      ],
      "execution_count": null,
      "outputs": []
    },
    {
      "cell_type": "code",
      "metadata": {
        "id": "8i48dmgKt0pl",
        "colab_type": "code",
        "colab": {}
      },
      "source": [
        ""
      ],
      "execution_count": null,
      "outputs": []
    },
    {
      "cell_type": "code",
      "metadata": {
        "id": "fKBSAp_et0pp",
        "colab_type": "code",
        "colab": {}
      },
      "source": [
        ""
      ],
      "execution_count": null,
      "outputs": []
    },
    {
      "cell_type": "code",
      "metadata": {
        "id": "ZJWiia3Ut0pu",
        "colab_type": "code",
        "colab": {}
      },
      "source": [
        ""
      ],
      "execution_count": null,
      "outputs": []
    },
    {
      "cell_type": "markdown",
      "metadata": {
        "_uuid": "972068bb640409037fb80081a55ae6f7cac0b706",
        "colab_type": "text",
        "id": "hKD16Pi-70dx"
      },
      "source": [
        "## 4.2 KNeighbors\n",
        "\n",
        "We are going to create a K-Nearest Neighbor Classifier.  \n",
        "We are going to `fit()` the data to the model.  \n",
        "\n",
        "KNNs asks for a parameter `n_neighbors` which tells how many neighbor points should it check around it, and classify itself according to the ones that are closest to it."
      ]
    },
    {
      "cell_type": "code",
      "metadata": {
        "_uuid": "aafecc71f5f0c6c71dc43d6aec5eae7a053f952b",
        "colab_type": "code",
        "id": "LzwmmHeN70dz",
        "colab": {}
      },
      "source": [
        "from sklearn.neighbors import KNeighborsClassifier"
      ],
      "execution_count": null,
      "outputs": []
    },
    {
      "cell_type": "code",
      "metadata": {
        "_uuid": "d82faecf227f5ff78bec0374959767678292f124",
        "colab_type": "code",
        "id": "uWZdrq1M70d3",
        "colab": {
          "base_uri": "https://localhost:8080/",
          "height": 68
        },
        "outputId": "0d5cae96-ed31-4172-8d7e-d36f4d8ae3c3"
      },
      "source": [
        "kn_clf = KNeighborsClassifier()\n",
        "kn_clf.fit(x_train, y_train)"
      ],
      "execution_count": null,
      "outputs": [
        {
          "output_type": "execute_result",
          "data": {
            "text/plain": [
              "KNeighborsClassifier()"
            ]
          },
          "metadata": {
            "tags": []
          },
          "execution_count": 33
        }
      ]
    },
    {
      "cell_type": "markdown",
      "metadata": {
        "_uuid": "3e8b702f39578dcdae8db86636fc015e7f24cc02",
        "colab_type": "text",
        "id": "R9kcOFwh70d8"
      },
      "source": [
        "## 4.3 Random Forest\n",
        "\n",
        "We are going to build the Random Forest classifier.\n",
        "We are going to call `fit()` to train it.  \n",
        "\n",
        "Random Forest is an ensemble machine learning algorithm, it trains many trees under the hood and the picks the one that performs the best. Random Forest has 2-3 parameters that we are going to tune and the better we tune it the better results we get."
      ]
    },
    {
      "cell_type": "code",
      "metadata": {
        "_uuid": "487d1f0ddecc6ec0b7a2ecd4c61e2570d2bab177",
        "colab_type": "code",
        "id": "3tUf8ju170d9",
        "colab": {}
      },
      "source": [
        "\"\"\"\n",
        "from sklearn.ensemble import RandomForestClassifier\n",
        "\"\"\""
      ],
      "execution_count": null,
      "outputs": []
    },
    {
      "cell_type": "code",
      "metadata": {
        "_uuid": "043c5c2ef8b5d6ffd98c64417eee4aa72a3b5aac",
        "colab_type": "code",
        "id": "i85ncl4K70eA",
        "colab": {}
      },
      "source": [
        "\"\"\"\n",
        "\n",
        "I am commenting out this section since it is taking too much time, but feel free to uncomment and run it.\n",
        "\n",
        "rf_clf = RandomForestClassifier(random_state=42, verbose=True)\n",
        "rf_clf.fit(X_train, y_train)\n",
        "\n",
        "\"\"\""
      ],
      "execution_count": null,
      "outputs": []
    },
    {
      "cell_type": "markdown",
      "metadata": {
        "_uuid": "43b588dcaadb1d2216034a9b57848f92b0916333",
        "colab_type": "text",
        "id": "Fu6oFyhV70eE"
      },
      "source": [
        "## 4.4 Neural Network Classifier\n",
        "\n",
        "We are going to create the MLP classifier.\n",
        "We are going to `fit()` the training data.\n",
        "\n",
        "Multi-layer perceptron is the one that requires most modification. Of course default values are already set in its **\\_\\_init\\_\\_** method but it is better if we customize it according to our needs. Of course there are no strict rules these parameters but we are going to try to do our best.\n"
      ]
    },
    {
      "cell_type": "code",
      "metadata": {
        "_uuid": "4e9207eedd96cf62a9243114771efab811a9348d",
        "colab_type": "code",
        "id": "wwGDCUlV70eF",
        "colab": {}
      },
      "source": [
        "\"\"\"\n",
        "from sklearn.neural_network import MLPClassifier\n",
        "\"\"\""
      ],
      "execution_count": null,
      "outputs": []
    },
    {
      "cell_type": "code",
      "metadata": {
        "_uuid": "7b42a0316962039db5419a2c18dc206f1dd8caee",
        "colab_type": "code",
        "id": "qAtBGCuo70eG",
        "colab": {}
      },
      "source": [
        "# Important parameters\n",
        "# hidden layer size\n",
        "# activation function\n",
        "# alpha -> learning rate\n",
        "# random_state -> set to get remove randomness effect for different runs\n",
        "# momentum\n",
        "# max_iter\n",
        "\n",
        "\"\"\"\n",
        "\n",
        "I am commenting out this section since it is taking too much time, but feel free to uncomment and run it.\n",
        "\n",
        "\n",
        "mlp_clf = MLPClassifier(random_state=42)\n",
        "mlp_clf.fit(X_train, y_train)\n",
        "\n",
        "\"\"\""
      ],
      "execution_count": null,
      "outputs": []
    },
    {
      "cell_type": "markdown",
      "metadata": {
        "_uuid": "41380e44b3567868e0668a3dfc583b4cd117c4a4",
        "colab_type": "text",
        "id": "LtVk9dnK70eJ"
      },
      "source": [
        "# 5. Evaluate Models"
      ]
    },
    {
      "cell_type": "code",
      "metadata": {
        "_uuid": "d6b004c43c46d90febe54da402715f2c2e76825f",
        "colab_type": "code",
        "id": "LRJzUludt0qW",
        "colab": {}
      },
      "source": [
        "\"\"\"\n",
        "from sklearn.metrics import accuracy_score\n",
        "\"\"\""
      ],
      "execution_count": null,
      "outputs": []
    },
    {
      "cell_type": "code",
      "metadata": {
        "_uuid": "bfd16196ea2d226566cb70825f93e14cfb43be45",
        "colab_type": "code",
        "id": "u-AB_de370eL",
        "colab": {}
      },
      "source": [
        "\"\"\"\n",
        "X_validation_scaled = X_validation.copy()\n",
        "X_validation_scaled = X_validation_scaled / 255.0\n",
        "\"\"\""
      ],
      "execution_count": null,
      "outputs": []
    },
    {
      "cell_type": "code",
      "metadata": {
        "_uuid": "4f7bfac165feda01edb09538308586d02ff5b362",
        "colab_type": "code",
        "id": "qGHbpoY6t0ql",
        "colab": {}
      },
      "source": [
        "\"\"\"\n",
        "\n",
        "I am commenting out this section since it is taking too much time, but feel free to uncomment and run it.\n",
        "\n",
        "svc_prediction = svc_clf.predict(X_validation_scaled)\n",
        "print(\"SVC Accuracy:\", accuracy_score(y_true=y_validation ,y_pred=svc_prediction))\n",
        "\n",
        "\"\"\""
      ],
      "execution_count": null,
      "outputs": []
    },
    {
      "cell_type": "markdown",
      "metadata": {
        "_uuid": "e37043027b8c1317d94ed0391854a42dae24ee3d",
        "id": "3TRsLboLt0qq",
        "colab_type": "text"
      },
      "source": [
        "SVC Accuracy: 0.934047619047619"
      ]
    },
    {
      "cell_type": "code",
      "metadata": {
        "_uuid": "f33c9e7a526a53554f90468b70a8f08abc74b20c",
        "colab_type": "code",
        "id": "AeNPvvf470eR",
        "colab": {}
      },
      "source": [
        "\"\"\"\n",
        "\n",
        "I am commenting out this section since it is taking too much time, but feel free to uncomment and run it.\n",
        "\n",
        "knn_prediction = kn_clf.predict(X_validation_scaled)\n",
        "print(\"KNN Accuracy:\", accuracy_score(y_true=y_validation ,y_pred=knn_prediction))\n",
        "\n",
        "\"\"\""
      ],
      "execution_count": null,
      "outputs": []
    },
    {
      "cell_type": "markdown",
      "metadata": {
        "_uuid": "b31112bb95beee194bd9d8e1453bd9ced05838a5",
        "id": "_vieYHbSt0qx",
        "colab_type": "text"
      },
      "source": [
        "KNN Accuracy: 0.9654761904761905"
      ]
    },
    {
      "cell_type": "code",
      "metadata": {
        "_uuid": "6bdf798b755c12526292d992b4e5d6fc5fbe5338",
        "colab_type": "code",
        "id": "e5jYjX5k70eV",
        "colab": {}
      },
      "source": [
        "\"\"\"\n",
        "\n",
        "I am commenting out this section since it is taking too much time, but feel free to uncomment and run it.\n",
        "\n",
        "rf_prediction = rf_clf.predict(X_validation_scaled)\n",
        "print(\"Random Forest Accuracy:\", accuracy_score(y_true=y_validation ,y_pred=rf_prediction))\n",
        "\n",
        "\"\"\""
      ],
      "execution_count": null,
      "outputs": []
    },
    {
      "cell_type": "markdown",
      "metadata": {
        "_uuid": "e5b38f1322fb82f2eb8848aabfe7c5c2125482f6",
        "id": "OhcHpXT7t0q1",
        "colab_type": "text"
      },
      "source": [
        "Random Forest Accuracy: 0.9419047619047619"
      ]
    },
    {
      "cell_type": "code",
      "metadata": {
        "_uuid": "da883076c6f596d28aad52d42c3fbcf6aff976ef",
        "colab_type": "code",
        "id": "U2sQ452s70eY",
        "colab": {}
      },
      "source": [
        "\"\"\"\n",
        "\n",
        "I am commenting out this section since it is taking too much time, but feel free to uncomment and run it.\n",
        "\n",
        "mlp_prediction = mlp_clf.predict(X_validation_scaled)\n",
        "print(\"MLP Accuracy:\", accuracy_score(y_true=y_validation ,y_pred=mlp_prediction))\n",
        "\n",
        "\"\"\""
      ],
      "execution_count": null,
      "outputs": []
    },
    {
      "cell_type": "markdown",
      "metadata": {
        "_uuid": "9b0af6bbec314112eda485137b346a29c1894230",
        "id": "26_aoaKQt0q5",
        "colab_type": "text"
      },
      "source": [
        "MLP Accuracy: 0.9745238095238096"
      ]
    },
    {
      "cell_type": "markdown",
      "metadata": {
        "_uuid": "98abb2ace4c98980541740edd74beb87a61f9811",
        "colab_type": "text",
        "id": "bSZWdCfZ70eb"
      },
      "source": [
        "These are the accuracy results for the models in their base forms, I mean without any tuning, **RandomForest** and **Neural Network (MLP)** performed well.\n",
        "\n",
        "Thanks to [archaeocharlie](https://www.kaggle.com/archaeocharlie) I realised a different type of modification to apply and I changed the scale from grayscale to only black and white.\n",
        "\n",
        "I am going to apply this and check the results for all other models."
      ]
    },
    {
      "cell_type": "markdown",
      "metadata": {
        "_uuid": "54f02c687f763eca984a92036c3afe53d8a3f9ae",
        "colab_type": "text",
        "id": "n0o-3gc270ed"
      },
      "source": [
        "### Transform Images to Black and White"
      ]
    },
    {
      "cell_type": "code",
      "metadata": {
        "_uuid": "aa741cd616856608ff7506cf73b8aa628055e4e0",
        "colab_type": "code",
        "collapsed": true,
        "id": "VB4xvbNQ70eh",
        "colab": {}
      },
      "source": [
        "\"\"\"\n",
        "\n",
        "I am commenting out this section since it is taking too much time, but feel free to uncomment and run it.\n",
        "\n",
        "X_validation_bw = X_validation.copy()\n",
        "X_train_bw = X_train.copy()\n",
        "\n",
        "X_validation_bw[X_validation_bw > 0] = 1\n",
        "X_train_bw[X_train_bw > 0] = 1\n",
        "\n",
        "\"\"\""
      ],
      "execution_count": null,
      "outputs": []
    },
    {
      "cell_type": "code",
      "metadata": {
        "_uuid": "58e4fecb5ab7023820cbeecc9cdfb78ea76fbb33",
        "colab_type": "code",
        "collapsed": true,
        "id": "PQGbGx_-70ej",
        "colab": {}
      },
      "source": [
        "\"\"\"\n",
        "\n",
        "I am commenting out this section since it is taking too much time, but feel free to uncomment and run it.\n",
        "\n",
        "svc_bw_clf = SVC(gamma='auto', random_state=42, verbose=True)\n",
        "svc_bw_clf.fit(X_train_bw, y_train)\n",
        "\n",
        "\"\"\""
      ],
      "execution_count": null,
      "outputs": []
    },
    {
      "cell_type": "code",
      "metadata": {
        "_uuid": "32fcbd8d6b8de1cbc1f364a514ddc71b853c922e",
        "colab_type": "code",
        "collapsed": true,
        "id": "iXFQJGrD70em",
        "colab": {}
      },
      "source": [
        "\"\"\"\n",
        "\n",
        "I am commenting out this section since it is taking too much time, but feel free to uncomment and run it.\n",
        "\n",
        "kn_bw_clf = KNeighborsClassifier()\n",
        "kn_bw_clf.fit(X_train_bw, y_train)\n",
        "\n",
        "\"\"\""
      ],
      "execution_count": null,
      "outputs": []
    },
    {
      "cell_type": "code",
      "metadata": {
        "_uuid": "5ad2a09a331cb5221fb928b17d9b841dfe315a2d",
        "colab_type": "code",
        "collapsed": true,
        "id": "JJOWJVCx70er",
        "colab": {}
      },
      "source": [
        "\"\"\"\n",
        "\n",
        "I am commenting out this section since it is taking too much time, but feel free to uncomment and run it.\n",
        "\n",
        "rf_bw_clf = RandomForestClassifier(random_state=42, verbose=True)\n",
        "rf_bw_clf.fit(X_train_bw, y_train)\n",
        "\n",
        "\"\"\""
      ],
      "execution_count": null,
      "outputs": []
    },
    {
      "cell_type": "code",
      "metadata": {
        "_uuid": "f7c0469a561fbd8fdd2ff6489ae6a8ff49761921",
        "colab_type": "code",
        "collapsed": true,
        "id": "a4RubSgt70ev",
        "colab": {}
      },
      "source": [
        "\"\"\"\n",
        "\n",
        "I am commenting out this section since it is taking too much time, but feel free to uncomment and run it.\n",
        "\n",
        "mlp_bw_clf = MLPClassifier(random_state=42)\n",
        "mlp_bw_clf.fit(X_train_bw, y_train)\n",
        "\n",
        "\"\"\""
      ],
      "execution_count": null,
      "outputs": []
    },
    {
      "cell_type": "code",
      "metadata": {
        "_uuid": "391f41d6d06a64bacceb279467e2421426e7fc36",
        "colab_type": "code",
        "collapsed": true,
        "id": "FTqt3asR70e0",
        "colab": {}
      },
      "source": [
        "\"\"\"\n",
        "\n",
        "I am commenting out this section since it is taking too much time, but feel free to uncomment and run it.\n",
        "\n",
        "svc_bw_prediction = svc_clf.predict(X_validation_bw)\n",
        "print(\"SVC BW Accuracy:\", accuracy_score(y_true=y_validation ,y_pred=svc_bw_prediction))\n",
        "\n",
        "\"\"\""
      ],
      "execution_count": null,
      "outputs": []
    },
    {
      "cell_type": "markdown",
      "metadata": {
        "_uuid": "93284f6ec84a77920be04af547166bae1196b5a7",
        "id": "ohw6xDDQt0rP",
        "colab_type": "text"
      },
      "source": [
        "SVC BW Accuracy: 0.9226190476190477"
      ]
    },
    {
      "cell_type": "code",
      "metadata": {
        "_uuid": "be007ad3dde89f8abc2bd24540daf357b1db1e4a",
        "colab_type": "code",
        "collapsed": true,
        "id": "EOszHtEJ70e4",
        "colab": {}
      },
      "source": [
        "\"\"\"\n",
        "\n",
        "I am commenting out this section since it is taking too much time, but feel free to uncomment and run it.\n",
        "\n",
        "knn_bw_prediction = kn_clf.predict(X_validation_bw)\n",
        "print(\"KNN Accuracy:\", accuracy_score(y_true=y_validation ,y_pred=knn_bw_prediction))\n",
        "\n",
        "\"\"\""
      ],
      "execution_count": null,
      "outputs": []
    },
    {
      "cell_type": "markdown",
      "metadata": {
        "_uuid": "d2836ef6da5babb89588479d69989b151e27daee",
        "id": "hYv_-0-jt0rW",
        "colab_type": "text"
      },
      "source": [
        "KNN Accuracy: 0.9630952380952381"
      ]
    },
    {
      "cell_type": "code",
      "metadata": {
        "_uuid": "6ca6b8b3bed66992d814e87c85058eefed47a48f",
        "colab_type": "code",
        "collapsed": true,
        "id": "64i_zRWw70e6",
        "colab": {}
      },
      "source": [
        "\"\"\"\n",
        "\n",
        "I am commenting out this section since it is taking too much time, but feel free to uncomment and run it.\n",
        "\n",
        "rf_bw_prediction = rf_clf.predict(X_validation_bw)\n",
        "print(\"Random Forest Accuracy:\", accuracy_score(y_true=y_validation ,y_pred=rf_bw_prediction))\n",
        "\n",
        "\"\"\""
      ],
      "execution_count": null,
      "outputs": []
    },
    {
      "cell_type": "markdown",
      "metadata": {
        "_uuid": "1733643af462ab7a9cf87082306707325ee94a58",
        "id": "vuc2aX1gt0rZ",
        "colab_type": "text"
      },
      "source": [
        "Random Forest Accuracy: 0.9166666666666666"
      ]
    },
    {
      "cell_type": "code",
      "metadata": {
        "_uuid": "624aaad453f5cb93a5ded8087057f1a73b305cc9",
        "colab_type": "code",
        "collapsed": true,
        "id": "3pj4HlA_70e_",
        "colab": {}
      },
      "source": [
        "\"\"\"\n",
        "\n",
        "I am commenting out this section since it is taking too much time, but feel free to uncomment and run it.\n",
        "\n",
        "mlp_bw_prediction = mlp_clf.predict(X_validation_bw)\n",
        "print(\"MLP Accuracy:\", accuracy_score(y_true=y_validation ,y_pred=mlp_bw_prediction))\n",
        "\n",
        "\"\"\""
      ],
      "execution_count": null,
      "outputs": []
    },
    {
      "cell_type": "markdown",
      "metadata": {
        "_uuid": "d95fc97c1750000b0789663b738c00006a682380",
        "id": "aIu7mdG8t0rg",
        "colab_type": "text"
      },
      "source": [
        "MLP Accuracy: 0.9595238095238096"
      ]
    },
    {
      "cell_type": "markdown",
      "metadata": {
        "_uuid": "5fe6d8cfdf29cc11187984ffbcd390ea9ce106a9",
        "colab_type": "text",
        "id": "v9HfaDDk70fB"
      },
      "source": [
        "Converting to BW kinda overwrite Min-Max scaling effect. So these are totally different transformation, and clearly feature scaling is a better approach."
      ]
    },
    {
      "cell_type": "markdown",
      "metadata": {
        "_uuid": "542ca79a9623c4a133c0b0d530aee3c9a2aaed8e",
        "colab_type": "text",
        "id": "HS4qbHQt70fB"
      },
      "source": [
        "## 5.1 Cross Validation"
      ]
    },
    {
      "cell_type": "code",
      "metadata": {
        "_uuid": "138fea09816aaff6b5c8cbfb84b5e5b55929688f",
        "colab_type": "code",
        "id": "qyGTlH2St0rk",
        "colab": {}
      },
      "source": [
        "\"\"\"\n",
        "from sklearn.model_selection import cross_val_score\n",
        "\n",
        "def display_scores(scores):\n",
        "    print(\"Scores:\", scores)\n",
        "    print(\"\")\n",
        "    print(\"Mean:\", scores.mean())\n",
        "    print(\"Standard deviation:\", scores.std())\n",
        "\"\"\""
      ],
      "execution_count": null,
      "outputs": []
    },
    {
      "cell_type": "markdown",
      "metadata": {
        "_uuid": "93c82272cfce01494653c4ea63699425cb7ad058",
        "colab_type": "text",
        "id": "UxOqcJ5ht0rn"
      },
      "source": [
        "### SVM"
      ]
    },
    {
      "cell_type": "code",
      "metadata": {
        "_uuid": "4798252676b583e7f228fe5016da355447982502",
        "colab_type": "code",
        "id": "pS4HZDw-t0ro",
        "colab": {}
      },
      "source": [
        "\"\"\"\n",
        "\n",
        "I am commenting out this section since it is taking too much time, but feel free to uncomment and run it.\n",
        "\n",
        "svm_scores = cross_val_score(svc_clf, X_train, y_train, scoring=\"neg_mean_squared_error\", cv=10, verbose=10)\n",
        "svm_rmse_scores = np.sqrt(-svm_scores)\n",
        "\n",
        "print(\"SVM Scores\\n\")\n",
        "display_scores(svm_rmse_scores)\n",
        "\"\"\""
      ],
      "execution_count": null,
      "outputs": []
    },
    {
      "cell_type": "markdown",
      "metadata": {
        "_uuid": "9fc9278b72ea888ab8efcec20e0e120d5dc620a3",
        "colab_type": "text",
        "id": "cn0yuKrG70fL"
      },
      "source": [
        "### KNN"
      ]
    },
    {
      "cell_type": "code",
      "metadata": {
        "_uuid": "d666894d91c6d737daa6bf8153a0465bb436fe84",
        "colab_type": "code",
        "id": "XP4dGDJ370fM",
        "colab": {}
      },
      "source": [
        "\"\"\"\n",
        "\n",
        "I am commenting out this section since it is taking too much time, but feel free to uncomment and run it.\n",
        "\n",
        "kn_scores = cross_val_score(kn_clf, X_train, y_train, scoring=\"neg_mean_squared_error\", cv=10, verbose=10)\n",
        "kn_rmse_scores = np.sqrt(-kn_scores)\n",
        "\n",
        "print(\"KNeighbor Scores\\n\")\n",
        "display_scores(kn_rmse_scores)\n",
        "\n",
        "\"\"\""
      ],
      "execution_count": null,
      "outputs": []
    },
    {
      "cell_type": "markdown",
      "metadata": {
        "_uuid": "786a258bbcdce5a7f7df47d7c0ba8a61a7a34d19",
        "colab_type": "text",
        "id": "Jy6JMXeM70fP"
      },
      "source": [
        "### Random Forest"
      ]
    },
    {
      "cell_type": "code",
      "metadata": {
        "_uuid": "688a7a5017354edf2dca86aff2c3631ae8956442",
        "colab_type": "code",
        "id": "-kiwEmAj70fR",
        "colab": {}
      },
      "source": [
        "\"\"\"\n",
        "\n",
        "I am commenting out this section since it is taking too much time, but feel free to uncomment and run it.\n",
        "\n",
        "rf_scores = cross_val_score(rf_clf, X_train, y_train, scoring=\"neg_mean_squared_error\", cv=10, verbose=10)\n",
        "rf_rmse_scores = np.sqrt(-rf_scores)\n",
        "\n",
        "print(\"Random Forest Scores\\n\")\n",
        "display_scores(rf_rmse_scores)\n",
        "\n",
        "\"\"\""
      ],
      "execution_count": null,
      "outputs": []
    },
    {
      "cell_type": "markdown",
      "metadata": {
        "_uuid": "0af4d3f56306aef39cd3f1773f942238cbe62893",
        "colab_type": "text",
        "id": "A0L5LZPW70fU"
      },
      "source": [
        "### MLP "
      ]
    },
    {
      "cell_type": "code",
      "metadata": {
        "_uuid": "b9889b763272cae2f5dfd05e4637581d9aec3b07",
        "colab_type": "code",
        "id": "T3AVQoEh70fW",
        "colab": {}
      },
      "source": [
        "\"\"\"\n",
        "\n",
        "I am commenting out this section since it is taking too much time, but feel free to uncomment and run it.\n",
        "\n",
        "mlp_scores = cross_val_score(mlp_clf, X_train, y_train, scoring=\"neg_mean_squared_error\", cv=10, verbose=10)\n",
        "mlp_rmse_scores = np.sqrt(-mlp_scores)\n",
        "\n",
        "print(\"Neural Network Scores\\n\")\n",
        "display_scores(mlp_rmse_scores)\n",
        "\"\"\""
      ],
      "execution_count": null,
      "outputs": []
    },
    {
      "cell_type": "markdown",
      "metadata": {
        "_uuid": "a103757ac4dfdb7334664a93dc327070589d275b",
        "id": "KiDOPlcct0r1",
        "colab_type": "text"
      },
      "source": [
        "Scores: [0.63807008 0.75385403 0.70411055 0.6401844  0.81735991 0.72976497\n",
        " 0.69986193 0.68349178 0.72595641 0.77671352]\n",
        "\n",
        "Mean: 0.7169367594666385\n",
        "\n",
        "Standard deviation: 0.05380741584858098"
      ]
    },
    {
      "cell_type": "markdown",
      "metadata": {
        "_uuid": "308defb041a5339263e79882c548edbfdb07ea47",
        "colab_type": "text",
        "id": "PCwxQCxo70fb"
      },
      "source": [
        "## 6. Hyperparameter Tuning"
      ]
    },
    {
      "cell_type": "markdown",
      "metadata": {
        "_uuid": "3722e65aab3a15c668b829f5789687b4df6b2767",
        "colab_type": "text",
        "id": "LGsa-rhO70fc"
      },
      "source": [
        "I am a big fan of GridSearch! You create a set of parameter combinations and you run your model with each of them and get the best parameter combination for that model. So let's do it!"
      ]
    },
    {
      "cell_type": "markdown",
      "metadata": {
        "_uuid": "49a683a4c14f4aaf136029639159a7e5a486c3b3",
        "colab_type": "text",
        "id": "iiSiwVIk70fd"
      },
      "source": [
        "### GridSearch"
      ]
    },
    {
      "cell_type": "code",
      "metadata": {
        "_uuid": "6cf6140167f261245bc3da0d304dad42a9cc6625",
        "colab_type": "code",
        "id": "ZSDLR2TU70fd",
        "colab": {}
      },
      "source": [
        "\"\"\"\n",
        "from sklearn.model_selection import GridSearchCV\n",
        "\"\"\""
      ],
      "execution_count": null,
      "outputs": []
    },
    {
      "cell_type": "markdown",
      "metadata": {
        "_uuid": "adb8f39f068bd2344d4595274634090fd84bd53e",
        "colab_type": "text",
        "id": "AKlXulXHRN_b"
      },
      "source": [
        "### Neural Network"
      ]
    },
    {
      "cell_type": "code",
      "metadata": {
        "_uuid": "ed1e9ddf4b5caa55b34ba201586b8c916bfb6c40",
        "colab_type": "code",
        "id": "VTiCKbVb70ff",
        "colab": {}
      },
      "source": [
        "\"\"\"\n",
        "\n",
        "I am commenting out this section since it is taking too much time, but feel free to uncomment and run it.\n",
        "\n",
        "nn_parameter_grid = [\n",
        "    {'hidden_layer_sizes': [(100, ), (200, ), (300, )],\n",
        "     'solver': ['sgd', 'adam'],\n",
        "     'learning_rate_init':[0.0001, 0.001]\n",
        "    }\n",
        "]\n",
        "\n",
        "nn_grid_clf = MLPClassifier(random_state=42, verbose=True)\n",
        "nn_grid_search = GridSearchCV(nn_grid_clf,\n",
        "                              nn_parameter_grid,\n",
        "                              cv=3,\n",
        "                              scoring='neg_mean_squared_error',\n",
        "                              verbose=3)\n",
        "nn_grid_search.fit(X_train, y_train)\n",
        "\n",
        "\"\"\""
      ],
      "execution_count": null,
      "outputs": []
    },
    {
      "cell_type": "code",
      "metadata": {
        "_uuid": "7727d1f8b9df6b4e7856b80ddc6c6dd0416f682f",
        "colab_type": "code",
        "id": "UeHxQk3DTCvi",
        "colab": {}
      },
      "source": [
        "\"\"\"\n",
        "\n",
        "cvres = nn_grid_search.cv_results_\n",
        "for mean_score, params in zip(cvres[\"mean_test_score\"], cvres[\"params\"]):\n",
        "    print(np.sqrt(-mean_score), params)\n",
        "\n",
        "\"\"\""
      ],
      "execution_count": null,
      "outputs": []
    },
    {
      "cell_type": "markdown",
      "metadata": {
        "_uuid": "95d09b03f393b2072f6ef6a2786b1f87d0f45005",
        "id": "EDI0gOlCt0sB",
        "colab_type": "text"
      },
      "source": [
        "1.3016777939893878 {'hidden_layer_sizes': (100,), 'learning_rate_init': 0.0001, 'solver': 'sgd'}  \n",
        "0.7858874268106391 {'hidden_layer_sizes': (100,), 'learning_rate_init': 0.0001, 'solver': 'adam'}  \n",
        "0.9632946111841942 {'hidden_layer_sizes': (100,), 'learning_rate_init': 0.001, 'solver': 'sgd'}  \n",
        "0.7544751846368469 {'hidden_layer_sizes': (100,), 'learning_rate_init': 0.001, 'solver': 'adam'}  \n",
        "1.2809553313236808 {'hidden_layer_sizes': (200,), 'learning_rate_init': 0.0001, 'solver': 'sgd'}  \n",
        "0.7334956530313408 {'hidden_layer_sizes': (200,), 'learning_rate_init': 0.0001, 'solver': 'adam'  }  \n",
        "0.8997648134800114 {'hidden_layer_sizes': (200,), 'learning_rate_init': 0.001, 'solver': 'sgd'}  \n",
        "0.712455326734661 {'hidden_layer_sizes': (200,), 'learning_rate_init': 0.001, 'solver': 'adam'}  \n",
        "1.2637811745483698 {'hidden_layer_sizes': (300,), 'learning_rate_init': 0.0001, 'solver': 'sgd'}  \n",
        "0.7171187204774808 {'hidden_layer_sizes': (300,), 'learning_rate_init': 0.0001, 'solver': 'adam'}  \n",
        "0.8738408800221489 {'hidden_layer_sizes': (300,), 'learning_rate_init': 0.001, 'solver': 'sgd'}  \n",
        "0.7087510439696313 {'hidden_layer_sizes': (300,), 'learning_rate_init': 0.001, 'solver': 'adam'}"
      ]
    },
    {
      "cell_type": "code",
      "metadata": {
        "_uuid": "61b6f16370eaab16d7586126634f3ed23137721c",
        "colab_type": "code",
        "id": "cLOCcbG7SxTl",
        "colab": {}
      },
      "source": [
        "\"\"\"\n",
        "\n",
        "nn_grid_search.best_params_\n",
        "\n",
        "\"\"\""
      ],
      "execution_count": null,
      "outputs": []
    },
    {
      "cell_type": "markdown",
      "metadata": {
        "_uuid": "674c759018adb02d853d4abba738497b6c47f1fc",
        "id": "G_PfwT9xt0sJ",
        "colab_type": "text"
      },
      "source": [
        "{'hidden_layer_sizes': (300,), 'learning_rate_init': 0.001, 'solver': 'adam'}"
      ]
    },
    {
      "cell_type": "markdown",
      "metadata": {
        "_uuid": "6e7ea4791406f68f8e57c561d01f43f138b5e534",
        "colab_type": "text",
        "id": "TwdykSUbyOes"
      },
      "source": [
        "### Random Forest"
      ]
    },
    {
      "cell_type": "code",
      "metadata": {
        "_kg_hide-output": false,
        "_uuid": "c590071e60915613f14de22b80ac0e2961c51cf1",
        "colab_type": "code",
        "id": "e2SmxUuGyM7t",
        "colab": {}
      },
      "source": [
        "\"\"\"\n",
        "\n",
        "I am commenting out this section since it is taking too much time, but feel free to uncomment and run it.\n",
        "\n",
        "rf_parameter_grid = [\n",
        "    {\n",
        "        'n_estimators': [60, 100, 200, 500],\n",
        "        'max_features': [12, 30, 100, 300, 'auto']\n",
        "    }\n",
        "]\n",
        "\n",
        "rf_grid_clf = RandomForestClassifier(random_state=42, verbose=True)\n",
        "rf_grid_search = GridSearchCV(rf_grid_clf,\n",
        "                              rf_parameter_grid,\n",
        "                              cv=None,\n",
        "                              scoring='neg_mean_squared_error',\n",
        "                              verbose=2)\n",
        "rf_grid_search.fit(X_train, y_train)\n",
        "\n",
        "\"\"\""
      ],
      "execution_count": null,
      "outputs": []
    },
    {
      "cell_type": "code",
      "metadata": {
        "_uuid": "ad140a69aea4d9195a1739ee2c259e95c434159d",
        "colab_type": "code",
        "id": "Nx8jTdHcTM2a",
        "colab": {}
      },
      "source": [
        "\"\"\"\n",
        "\n",
        "cvres = rf_grid_search.cv_results_\n",
        "for mean_score, params in zip(cvres[\"mean_test_score\"], cvres[\"params\"]):\n",
        "    print(np.sqrt(-mean_score), params)\n",
        "    \n",
        "\"\"\""
      ],
      "execution_count": null,
      "outputs": []
    },
    {
      "cell_type": "markdown",
      "metadata": {
        "_uuid": "9b6aab4b991c18c0298ab158101296a8916c6360",
        "id": "RVV0nEwLt0sW",
        "colab_type": "text"
      },
      "source": [
        "0.8918650572947011 {'max_features': 12, 'n_estimators': 60}  \n",
        "0.8688312407295935 {'max_features': 12, 'n_estimators': 100}  \n",
        "0.8511274812964209 {'max_features': 12, 'n_estimators': 200}  \n",
        "0.8394221998670452 {'max_features': 12, 'n_estimators': 500}  \n",
        "0.8549575316659775 {'max_features': 30, 'n_estimators': 60}  \n",
        "0.8316331863350311 {'max_features': 30, 'n_estimators': 100}  \n",
        "0.8305668364684866 {'max_features': 30, 'n_estimators': 200}  \n",
        "0.8183413344580241 {'max_features': 30, 'n_estimators': 500}  \n",
        "0.8433210991019234 {'max_features': 100, 'n_estimators': 60}  \n",
        "0.8353309390761112 {'max_features': 100, 'n_estimators': 100}  \n",
        "0.8305827622023737 {'max_features': 100, 'n_estimators': 200}  \n",
        "0.8200529083460241 {'max_features': 100, 'n_estimators': 500}  \n",
        "0.8734775114237132 {'max_features': 300, 'n_estimators': 60}  \n",
        "0.8598326402923824 {'max_features': 300, 'n_estimators': 100}  \n",
        "0.8533469740973235 {'max_features': 300, 'n_estimators': 200}  \n",
        "0.8530524091158835 {'max_features': 300, 'n_estimators': 500}  \n",
        "0.85441585602472 {'max_features': 'auto', 'n_estimators': 60}  \n",
        "0.838002790716521 {'max_features': 'auto', 'n_estimators': 100}  \n",
        "0.8238668665243273 {'max_features': 'auto', 'n_estimators': 200}  \n",
        "0.8244767460407266 {'max_features': 'auto', 'n_estimators': 500}  "
      ]
    },
    {
      "cell_type": "code",
      "metadata": {
        "_uuid": "3463ecae11294b76a9f62ce31171852c14dd62bb",
        "colab_type": "code",
        "id": "GI3ukBO6TQNA",
        "colab": {}
      },
      "source": [
        "\"\"\"\n",
        "rf_grid_search.best_params_\n",
        "\"\"\""
      ],
      "execution_count": null,
      "outputs": []
    },
    {
      "cell_type": "markdown",
      "metadata": {
        "_uuid": "8b4109e0899292c60bdcf98633e0d63711d54943",
        "collapsed": true,
        "id": "hwBRUFeit0sb",
        "colab_type": "text"
      },
      "source": [
        "{'max_features': 30, 'n_estimators': 500}"
      ]
    },
    {
      "cell_type": "markdown",
      "metadata": {
        "_uuid": "c19816fb9bc81524e59ec33a340ca95ace0c7491",
        "colab_type": "text",
        "id": "AG_6Efa1WBGS"
      },
      "source": [
        "# 7. Predict and Submit"
      ]
    },
    {
      "cell_type": "markdown",
      "metadata": {
        "_uuid": "898d4052b02579517754b1ffd5742683e14668ae",
        "colab_type": "text",
        "id": "zRb8cCBV80Fd"
      },
      "source": [
        "## 7.1 Confusion Matrix"
      ]
    },
    {
      "cell_type": "code",
      "metadata": {
        "_uuid": "4d2f307b51aa340a4ba31359476ab5fabfc1be3b",
        "colab_type": "code",
        "id": "utg_50Bi-E3-",
        "colab": {}
      },
      "source": [
        "nn_tuned_clf = MLPClassifier(hidden_layer_sizes=(300,),\n",
        "                            learning_rate_init=0.001,\n",
        "                            solver='adam',\n",
        "                            random_state=42,\n",
        "                            verbose=True)\n",
        "nn_tuned_clf.fit(X_train, y_train)"
      ],
      "execution_count": null,
      "outputs": []
    },
    {
      "cell_type": "code",
      "metadata": {
        "_uuid": "0982ab7a387591d0446aacc9de3aa0a24137ba62",
        "colab_type": "code",
        "id": "ZsPGMea1-ipY",
        "colab": {}
      },
      "source": [
        "nn_tuned_pred = nn_tuned_clf.predict(X_validation_scaled)"
      ],
      "execution_count": null,
      "outputs": []
    },
    {
      "cell_type": "markdown",
      "metadata": {
        "_uuid": "aef5127ccae95f759074a238163baea71c38a99d",
        "colab_type": "text",
        "id": "L38q0EG4WXMD"
      },
      "source": [
        "## 7.2 Precision, Recall and F1 Scores"
      ]
    },
    {
      "cell_type": "code",
      "metadata": {
        "_uuid": "ec93c7478c9bf639d550e82f336e052838a9fd3b",
        "colab_type": "code",
        "id": "rhpadj_hTSbT",
        "colab": {}
      },
      "source": [
        "from sklearn.metrics import confusion_matrix, precision_score, recall_score, f1_score, precision_recall_fscore_support"
      ],
      "execution_count": null,
      "outputs": []
    },
    {
      "cell_type": "code",
      "metadata": {
        "_uuid": "16079413e38c40a3fef4320aef53dc98a3bab012",
        "colab_type": "code",
        "id": "OijPXxWJSEg1",
        "colab": {}
      },
      "source": [
        "nn_precisions, nn_recalls, nn_f_beta_scores, nn_support = precision_recall_fscore_support(y_validation, nn_tuned_pred)\n",
        "print(\"Precision of each class:\", nn_precisions, \"\\n\")\n",
        "print(\"Recall of each class:\", nn_recalls, \"\\n\")\n",
        "print(\"F Scores of each class:\", nn_f_beta_scores, \"\\n\")\n",
        "print(\"Support of each class:\", nn_support, \"\\n\")"
      ],
      "execution_count": null,
      "outputs": []
    },
    {
      "cell_type": "markdown",
      "metadata": {
        "_uuid": "4d04c24b7bada4d9b4fca91aa6d4c52106d97e3b",
        "colab_type": "text",
        "id": "Nj8DbfX0Si0p"
      },
      "source": [
        "See [Sklearn Documentation for precision_recall_fscore_support()](http://scikit-learn.org/stable/modules/generated/sklearn.metrics.precision_recall_fscore_support.html#sklearn.metrics.precision_recall_fscore_support)\n",
        "\n",
        "The **precision** is the ratio `tp / (tp + fp)` where tp is the number of true positives and fp the number of false positives. _The precision is intuitively the ability of the classifier **not to label as positive a sample that is negative**._\n",
        "\n",
        "The **recall** is the ratio `tp / (tp + fn)` where tp is the number of true positives and fn the number of false negatives. _The recall is intuitively the ability of the classifier **to find all the positive samples**._\n",
        "\n",
        "The **F-beta score** can be interpreted as a weighted harmonic mean of the precision and recall, where an F-beta score reaches its `best value at 1 and worst score at 0`.\n",
        "\n",
        "The F-beta score weights recall more than precision by a factor of beta. `beta == 1.0` means `recall and precision are equally important.`"
      ]
    },
    {
      "cell_type": "code",
      "metadata": {
        "_uuid": "90361d628fa69375285013ca5a8854387bfd165a",
        "colab_type": "code",
        "id": "49MA1Q1vR1Ld",
        "colab": {}
      },
      "source": [
        "f1_score(y_validation, nn_tuned_pred, average=\"micro\") # This is the average"
      ],
      "execution_count": null,
      "outputs": []
    },
    {
      "cell_type": "code",
      "metadata": {
        "_uuid": "967ef6ead6f010bfc6f8339f8f55f99dd13ae454",
        "colab_type": "code",
        "id": "FkkL8qok842D",
        "colab": {}
      },
      "source": [
        "nn_conf_matrix = confusion_matrix(y_validation, nn_tuned_pred)"
      ],
      "execution_count": null,
      "outputs": []
    },
    {
      "cell_type": "code",
      "metadata": {
        "_uuid": "6544b0c122c0a7f961e198310899a1757faaf429",
        "colab_type": "code",
        "id": "Xlt5bjs_I0He",
        "colab": {}
      },
      "source": [
        "plt.matshow(nn_conf_matrix, cmap=plt.cm.gray)\n",
        "plt.show()"
      ],
      "execution_count": null,
      "outputs": []
    },
    {
      "cell_type": "markdown",
      "metadata": {
        "_uuid": "bc7f83779438f950ad1a33bd5f258ab5a2b1e6ba",
        "colab_type": "text",
        "id": "AoMzbEApJueG"
      },
      "source": [
        "Currently we can not talk about this graph so much, since these are the actual values and depending on the frequency of each digit this result may mislead us. It is better to look at the **error rates** and **not the actual number** of errors (mis-classified).\n",
        "\n",
        "Because, if we had 1000 5s and 9999 1s, having 999 false classifications (errors) in 5s, and 1000 in 1s would be seen as \"We had less error in 5s\". But if we have used **rates** it would be clearer."
      ]
    },
    {
      "cell_type": "code",
      "metadata": {
        "_uuid": "1beb50e954cabfcfaefc805b63e8e10be6993000",
        "colab_type": "code",
        "id": "89IbI6tCJLvk",
        "colab": {}
      },
      "source": [
        "nn_row_sums = nn_conf_matrix.sum(axis=1, keepdims=True)\n",
        "nn_norm_conf_mx = nn_conf_matrix / nn_row_sums"
      ],
      "execution_count": null,
      "outputs": []
    },
    {
      "cell_type": "code",
      "metadata": {
        "_uuid": "0af387c056dc335a4e24f938983f983c0b2db264",
        "colab_type": "code",
        "id": "4PnFBK4KKmX9",
        "colab": {}
      },
      "source": [
        "np.fill_diagonal(nn_norm_conf_mx, 0) # to keep only the errors we fill diagonal with 0s, since diagonal shows the ones that are correctly classified.\n",
        "plt.matshow(nn_norm_conf_mx, cmap=plt.cm.gray)\n",
        "plt.show()"
      ],
      "execution_count": null,
      "outputs": []
    },
    {
      "cell_type": "markdown",
      "metadata": {
        "_uuid": "d64716b945f294cf517b6ae594811de4b96ce8ba",
        "colab_type": "text",
        "id": "Vlhg-IqjQjMw"
      },
      "source": [
        "The brighter squares represents higher values, meaning higher error rates.  \n",
        "\n",
        "We can see that most of the **3s are mis-classified as 5**, some of the **4s are mis-classified as 9s**, and some of **7s are mis-classified as 2**. To solve these issues we may add some new features:\n",
        "\n",
        "For example the main difference betweeen 5 and 3 is the postiion of the line in between, in 3s it closer to the middle, in 5s it is a bit higher.  \n",
        "\n",
        "For 4 and 9 we can check to see if there are complete circles, which indicates that is a 9.  \n",
        "\n",
        "For 7 and 2, the additional line in the bottom is what makes the most of the difference.\n",
        "\n",
        "To get a better understanding of the error we may examine the mis-classified examples to what might be the reason for the error.\n",
        "\n",
        "**PS: Increasing the total number of training samples for each digit would result in a increase in performance. We can also preprocess the images to make sure that they are not rotated and they fit well in the matrix.**"
      ]
    },
    {
      "cell_type": "markdown",
      "metadata": {
        "_uuid": "ff23583d9932a58d6066fac414fdc8353ca4d559",
        "colab_type": "text",
        "id": "szhrNvWIWaI8"
      },
      "source": [
        "## 7.3 Predict and Submit Results"
      ]
    },
    {
      "cell_type": "markdown",
      "metadata": {
        "_uuid": "1c4dc63e0c9faba62f1be9a7de81f7eaaa8b5fd7",
        "colab_type": "text",
        "id": "EPJMmKugWkHl"
      },
      "source": [
        "We are going to build the final classifier again, using the whole training set (including the validation set this time). Predict result for test set and submit our results."
      ]
    },
    {
      "cell_type": "markdown",
      "metadata": {
        "_uuid": "239dedcabfa0a0ee328148ff656d67a8ea6af745",
        "colab_type": "text",
        "id": "pa1eNylnXWW3"
      },
      "source": [
        "### Get the dataset again and normalize it"
      ]
    },
    {
      "cell_type": "code",
      "metadata": {
        "_uuid": "7ae380f0aa99f061b61aefd27b801352634e1b44",
        "colab_type": "code",
        "id": "emfD_Et_K_RI",
        "colab": {}
      },
      "source": [
        "\"\"\"\n",
        "\n",
        "final_train = train.copy()\n",
        "\n",
        "final_X_train = final_train.drop(['label'], axis=1).copy()\n",
        "final_y_train = final_train['label'].copy()\n",
        "\n",
        "del final_train\n",
        "\n",
        "final_X_train_scaled = final_X_train.copy()\n",
        "final_X_train_scaled = final_X_train_scaled / 255.0\n",
        "\"\"\"\n"
      ],
      "execution_count": null,
      "outputs": []
    },
    {
      "cell_type": "markdown",
      "metadata": {
        "_uuid": "bfb65e726b38a0d3762194137d71025a47f3b900",
        "colab_type": "text",
        "id": "f7QYFX0mXbsC"
      },
      "source": [
        "### Train The Best Model (MLP in this case)"
      ]
    },
    {
      "cell_type": "code",
      "metadata": {
        "_uuid": "baa2f59cf716d6cce09ca29b017407e2aa93f71b",
        "colab_type": "code",
        "id": "gGUVyd6PXVI9",
        "colab": {}
      },
      "source": [
        "\"\"\"\n",
        "from sklearn.neural_network import MLPClassifier\n",
        "\"\"\""
      ],
      "execution_count": null,
      "outputs": []
    },
    {
      "cell_type": "code",
      "metadata": {
        "_uuid": "5bcda4013725dcaa692ade882b005e11f7465c9c",
        "colab_type": "code",
        "id": "258MwCj5XlXo",
        "colab": {}
      },
      "source": [
        "\"\"\"\n",
        "\n",
        "final_nn_clf = MLPClassifier(hidden_layer_sizes=(300,),\n",
        "                            learning_rate_init=0.001,\n",
        "                            solver='adam',\n",
        "                            random_state=42)\n",
        "final_nn_clf.fit(final_X_train_scaled, final_y_train)\n",
        "\"\"\"\n"
      ],
      "execution_count": null,
      "outputs": []
    },
    {
      "cell_type": "markdown",
      "metadata": {
        "_uuid": "ebf6b9613aa9cf738eb69804335d4e0914631f32",
        "colab_type": "text",
        "id": "jggZxhkuX5Jz"
      },
      "source": [
        "### Predict on Test Set"
      ]
    },
    {
      "cell_type": "code",
      "metadata": {
        "_uuid": "c0edf8f1fa995da8a81d611ed9d0eb2eeecce83a",
        "id": "sHK1NVD8t0tD",
        "colab_type": "code",
        "colab": {}
      },
      "source": [
        "\"\"\"\n",
        "final_prediction = final_nn_clf.predict(test)\n",
        "\"\"\""
      ],
      "execution_count": null,
      "outputs": []
    },
    {
      "cell_type": "markdown",
      "metadata": {
        "_uuid": "ded4cf934547549094cebd636d6bb540fb5ca7b8",
        "colab_type": "text",
        "id": "I2xmwIGzYCd_"
      },
      "source": [
        "### Submit Results"
      ]
    },
    {
      "cell_type": "code",
      "metadata": {
        "_uuid": "11de8a8417bd15d5f38c15f838e1a543024715f3",
        "colab_type": "code",
        "id": "sdSsOe-gY2q9",
        "colab": {}
      },
      "source": [
        "\"\"\"\n",
        "\n",
        "submission = pd.DataFrame({\"ImageId\": list(range(1,len(final_prediction)+1)),\n",
        "                          \"Label\": final_prediction})\n",
        "\"\"\""
      ],
      "execution_count": null,
      "outputs": []
    },
    {
      "cell_type": "code",
      "metadata": {
        "_uuid": "a9de35872e156b1c3711f9d1874ec8fde24f6712",
        "colab_type": "code",
        "id": "JrqMOWaqZFwH",
        "colab": {}
      },
      "source": [
        "\"\"\"\n",
        "submission.to_csv(\"cnn_mnist_submission.csv\", index=False)\n",
        "\"\"\""
      ],
      "execution_count": null,
      "outputs": []
    },
    {
      "cell_type": "code",
      "metadata": {
        "_uuid": "7515a73b152d5dfcf088a30a6f2b062fc64c1327",
        "id": "7qAQ2FO3t0tO",
        "colab_type": "code",
        "colab": {}
      },
      "source": [
        ""
      ],
      "execution_count": null,
      "outputs": []
    }
  ]
}